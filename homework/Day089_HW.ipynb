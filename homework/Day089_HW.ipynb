{
 "cells": [
  {
   "cell_type": "markdown",
   "metadata": {},
   "source": [
    "## Work\n",
    "1. 請自行定義一個 loss function, 為 0.3 * focal loss + 0.7 cross-entropy，訓練並比較結果\n"
   ]
  },
  {
   "cell_type": "code",
   "execution_count": 1,
   "metadata": {},
   "outputs": [
    {
     "name": "stderr",
     "output_type": "stream",
     "text": [
      "Using TensorFlow backend.\n"
     ]
    }
   ],
   "source": [
    "import os\n",
    "import keras\n",
    "\n",
    "# Disable GPU\n",
    "os.environ[\"CUDA_VISIBLE_DEVICES\"] = \"\""
   ]
  },
  {
   "cell_type": "code",
   "execution_count": 2,
   "metadata": {},
   "outputs": [],
   "source": [
    "train, test = keras.datasets.cifar10.load_data()"
   ]
  },
  {
   "cell_type": "code",
   "execution_count": 3,
   "metadata": {},
   "outputs": [],
   "source": [
    "## 資料前處理\n",
    "def preproc_x(x, flatten=True):\n",
    "    x = x / 255.\n",
    "    if flatten:\n",
    "        x = x.reshape((len(x), -1))\n",
    "    return x\n",
    "\n",
    "def preproc_y(y, num_classes=10):\n",
    "    if y.shape[-1] == 1:\n",
    "        y = keras.utils.to_categorical(y, num_classes)\n",
    "    return y    "
   ]
  },
  {
   "cell_type": "code",
   "execution_count": 4,
   "metadata": {},
   "outputs": [],
   "source": [
    "x_train, y_train = train\n",
    "x_test, y_test = test\n",
    "\n",
    "# Preproc the inputs\n",
    "x_train = preproc_x(x_train)\n",
    "x_test = preproc_x(x_test)\n",
    "\n",
    "# Preprc the outputs\n",
    "y_train = preproc_y(y_train)\n",
    "y_test = preproc_y(y_test)"
   ]
  },
  {
   "cell_type": "code",
   "execution_count": 5,
   "metadata": {},
   "outputs": [],
   "source": [
    "from keras.layers import BatchNormalization\n",
    "def build_mlp(input_shape, output_units=10, num_neurons=[512, 256, 128]):\n",
    "    \"\"\"Code Here\n",
    "    建立你的神經網路\n",
    "    \"\"\"\n",
    "    input_layer = keras.layers.Input(input_shape)\n",
    "    \n",
    "    for i, n_units in enumerate(num_neurons):\n",
    "        if i == 0:\n",
    "            x = keras.layers.Dense(units=n_units, \n",
    "                                   activation=\"relu\", \n",
    "                                   name=\"hidden_layer\"+str(i+1))(input_layer)\n",
    "            x = BatchNormalization()(x)\n",
    "        else:\n",
    "            x = keras.layers.Dense(units=n_units, \n",
    "                                   activation=\"relu\", \n",
    "                                   name=\"hidden_layer\"+str(i+1))(x)\n",
    "            x = BatchNormalization()(x)\n",
    "    \n",
    "    out = keras.layers.Dense(units=output_units, activation=\"softmax\", name=\"output\")(x)\n",
    "    \n",
    "    model = keras.models.Model(inputs=[input_layer], outputs=[out])\n",
    "    return model"
   ]
  },
  {
   "cell_type": "code",
   "execution_count": 6,
   "metadata": {},
   "outputs": [],
   "source": [
    "## 超參數設定\n",
    "LEARNING_RATE = 1e-3\n",
    "EPOCHS = 25\n",
    "BATCH_SIZE = 1024\n",
    "MOMENTUM = 0.95"
   ]
  },
  {
   "cell_type": "code",
   "execution_count": 7,
   "metadata": {},
   "outputs": [],
   "source": [
    "import tensorflow as tf\n",
    "import keras.backend as K\n",
    "\"\"\"\n",
    "# 撰寫自定義的 loss function: focal loss (https://blog.csdn.net/u014380165/article/details/77019084)\n",
    "\"\"\"\n",
    "def focal_loss(gamma=2., alpha=4.):\n",
    "    gamma = float(gamma)\n",
    "    alpha = float(alpha)\n",
    "    def focal_loss_fixed(y_true, y_pred):\n",
    "        \"\"\"Focal loss for multi-classification\n",
    "        FL(p_t)=-alpha(1-p_t)^{gamma}ln(p_t)\n",
    "        \"\"\"\n",
    "        epsilon = 1e-8\n",
    "        y_true = tf.convert_to_tensor(y_true, tf.float32)\n",
    "        y_pred = tf.convert_to_tensor(y_pred, tf.float32)\n",
    "\n",
    "        model_out = tf.add(y_pred, epsilon)\n",
    "        ce = tf.multiply(y_true, -tf.log(model_out))\n",
    "        weight = tf.multiply(y_true, tf.pow(tf.subtract(1., model_out), gamma))\n",
    "        fl = tf.multiply(alpha, tf.multiply(weight, ce))\n",
    "        reduced_fl = tf.reduce_max(fl, axis=1)\n",
    "        return tf.reduce_mean(reduced_fl)\n",
    "    return focal_loss_fixed\n",
    "\n",
    "ce_weights_list = [10, 20]"
   ]
  },
  {
   "cell_type": "code",
   "execution_count": 8,
   "metadata": {
    "scrolled": true
   },
   "outputs": [
    {
     "name": "stdout",
     "output_type": "stream",
     "text": [
      "Numbers of exp: 0, ce_weight: 10.00\n",
      "WARNING:tensorflow:From C:\\ProgramData\\Anaconda3\\envs\\tensorflow-gpu\\lib\\site-packages\\tensorflow\\python\\framework\\op_def_library.py:263: colocate_with (from tensorflow.python.framework.ops) is deprecated and will be removed in a future version.\n",
      "Instructions for updating:\n",
      "Colocations handled automatically by placer.\n",
      "_________________________________________________________________\n",
      "Layer (type)                 Output Shape              Param #   \n",
      "=================================================================\n",
      "input_1 (InputLayer)         (None, 3072)              0         \n",
      "_________________________________________________________________\n",
      "hidden_layer1 (Dense)        (None, 512)               1573376   \n",
      "_________________________________________________________________\n",
      "batch_normalization_1 (Batch (None, 512)               2048      \n",
      "_________________________________________________________________\n",
      "hidden_layer2 (Dense)        (None, 256)               131328    \n",
      "_________________________________________________________________\n",
      "batch_normalization_2 (Batch (None, 256)               1024      \n",
      "_________________________________________________________________\n",
      "hidden_layer3 (Dense)        (None, 128)               32896     \n",
      "_________________________________________________________________\n",
      "batch_normalization_3 (Batch (None, 128)               512       \n",
      "_________________________________________________________________\n",
      "output (Dense)               (None, 10)                1290      \n",
      "=================================================================\n",
      "Total params: 1,742,474\n",
      "Trainable params: 1,740,682\n",
      "Non-trainable params: 1,792\n",
      "_________________________________________________________________\n",
      "WARNING:tensorflow:From C:\\ProgramData\\Anaconda3\\envs\\tensorflow-gpu\\lib\\site-packages\\tensorflow\\python\\ops\\math_ops.py:3066: to_int32 (from tensorflow.python.ops.math_ops) is deprecated and will be removed in a future version.\n",
      "Instructions for updating:\n",
      "Use tf.cast instead.\n",
      "WARNING:tensorflow:From C:\\ProgramData\\Anaconda3\\envs\\tensorflow-gpu\\lib\\site-packages\\tensorflow\\python\\ops\\math_grad.py:102: div (from tensorflow.python.ops.math_ops) is deprecated and will be removed in a future version.\n",
      "Instructions for updating:\n",
      "Deprecated in favor of operator or tf.math.divide.\n",
      "Train on 50000 samples, validate on 10000 samples\n",
      "Epoch 1/25\n",
      "50000/50000 [==============================] - 4s 71us/step - loss: 6.0957 - acc: 0.3275 - val_loss: 6.1189 - val_acc: 0.3446\n",
      "Epoch 2/25\n",
      "50000/50000 [==============================] - 2s 37us/step - loss: 4.3874 - acc: 0.4452 - val_loss: 4.7186 - val_acc: 0.4093\n",
      "Epoch 3/25\n",
      "50000/50000 [==============================] - 2s 37us/step - loss: 3.9669 - acc: 0.4839 - val_loss: 4.4417 - val_acc: 0.4316\n",
      "Epoch 4/25\n",
      "50000/50000 [==============================] - 2s 36us/step - loss: 3.7013 - acc: 0.5125 - val_loss: 4.3921 - val_acc: 0.4387\n",
      "Epoch 5/25\n",
      "50000/50000 [==============================] - 2s 36us/step - loss: 3.4914 - acc: 0.5312 - val_loss: 4.1259 - val_acc: 0.4579\n",
      "Epoch 6/25\n",
      "50000/50000 [==============================] - 2s 35us/step - loss: 3.3042 - acc: 0.5524 - val_loss: 4.1078 - val_acc: 0.4612\n",
      "Epoch 7/25\n",
      "50000/50000 [==============================] - 2s 35us/step - loss: 3.1423 - acc: 0.5686 - val_loss: 4.0074 - val_acc: 0.4696\n",
      "Epoch 8/25\n",
      "50000/50000 [==============================] - 2s 36us/step - loss: 2.9801 - acc: 0.5857 - val_loss: 3.9173 - val_acc: 0.4857\n",
      "Epoch 9/25\n",
      "50000/50000 [==============================] - 2s 37us/step - loss: 2.8373 - acc: 0.6019 - val_loss: 3.9791 - val_acc: 0.4834\n",
      "Epoch 10/25\n",
      "50000/50000 [==============================] - 2s 38us/step - loss: 2.7029 - acc: 0.6159 - val_loss: 3.9139 - val_acc: 0.4858\n",
      "Epoch 11/25\n",
      "50000/50000 [==============================] - 2s 38us/step - loss: 2.5698 - acc: 0.6272 - val_loss: 4.0038 - val_acc: 0.4705\n",
      "Epoch 12/25\n",
      "50000/50000 [==============================] - 2s 37us/step - loss: 2.4531 - acc: 0.6408 - val_loss: 3.9413 - val_acc: 0.4860\n",
      "Epoch 13/25\n",
      "50000/50000 [==============================] - 2s 38us/step - loss: 2.3264 - acc: 0.6561 - val_loss: 3.9183 - val_acc: 0.4901\n",
      "Epoch 14/25\n",
      "50000/50000 [==============================] - 2s 38us/step - loss: 2.2072 - acc: 0.6694 - val_loss: 4.0909 - val_acc: 0.4687\n",
      "Epoch 15/25\n",
      "50000/50000 [==============================] - 2s 39us/step - loss: 2.1021 - acc: 0.6814 - val_loss: 3.9857 - val_acc: 0.4806\n",
      "Epoch 16/25\n",
      "50000/50000 [==============================] - 2s 38us/step - loss: 1.9921 - acc: 0.6948 - val_loss: 4.1424 - val_acc: 0.4753\n",
      "Epoch 17/25\n",
      "50000/50000 [==============================] - 2s 38us/step - loss: 1.8727 - acc: 0.7095 - val_loss: 4.0695 - val_acc: 0.4875\n",
      "Epoch 18/25\n",
      "50000/50000 [==============================] - 2s 40us/step - loss: 1.7576 - acc: 0.7233 - val_loss: 4.6906 - val_acc: 0.4333\n",
      "Epoch 19/25\n",
      "50000/50000 [==============================] - 2s 39us/step - loss: 1.6556 - acc: 0.7351 - val_loss: 4.0759 - val_acc: 0.4879\n",
      "Epoch 20/25\n",
      "50000/50000 [==============================] - 2s 38us/step - loss: 1.5442 - acc: 0.7506 - val_loss: 4.2014 - val_acc: 0.4868\n",
      "Epoch 21/25\n",
      "50000/50000 [==============================] - 2s 37us/step - loss: 1.4555 - acc: 0.7620 - val_loss: 4.4371 - val_acc: 0.4697\n",
      "Epoch 22/25\n",
      "50000/50000 [==============================] - 2s 37us/step - loss: 1.3661 - acc: 0.7742 - val_loss: 4.4202 - val_acc: 0.4753\n",
      "Epoch 23/25\n",
      "50000/50000 [==============================] - 2s 38us/step - loss: 1.2657 - acc: 0.7873 - val_loss: 4.5075 - val_acc: 0.4810\n",
      "Epoch 24/25\n",
      "50000/50000 [==============================] - 2s 37us/step - loss: 1.1673 - acc: 0.8029 - val_loss: 4.6140 - val_acc: 0.4651\n",
      "Epoch 25/25\n",
      "50000/50000 [==============================] - 2s 37us/step - loss: 1.0791 - acc: 0.8138 - val_loss: 4.6276 - val_acc: 0.4835\n",
      "Numbers of exp: 1, ce_weight: 20.00\n",
      "_________________________________________________________________\n",
      "Layer (type)                 Output Shape              Param #   \n",
      "=================================================================\n",
      "input_2 (InputLayer)         (None, 3072)              0         \n",
      "_________________________________________________________________\n",
      "hidden_layer1 (Dense)        (None, 512)               1573376   \n",
      "_________________________________________________________________\n",
      "batch_normalization_4 (Batch (None, 512)               2048      \n",
      "_________________________________________________________________\n",
      "hidden_layer2 (Dense)        (None, 256)               131328    \n",
      "_________________________________________________________________\n",
      "batch_normalization_5 (Batch (None, 256)               1024      \n",
      "_________________________________________________________________\n",
      "hidden_layer3 (Dense)        (None, 128)               32896     \n",
      "_________________________________________________________________\n",
      "batch_normalization_6 (Batch (None, 128)               512       \n",
      "_________________________________________________________________\n",
      "output (Dense)               (None, 10)                1290      \n",
      "=================================================================\n",
      "Total params: 1,742,474\n",
      "Trainable params: 1,740,682\n",
      "Non-trainable params: 1,792\n",
      "_________________________________________________________________\n",
      "Train on 50000 samples, validate on 10000 samples\n",
      "Epoch 1/25\n",
      "50000/50000 [==============================] - 3s 52us/step - loss: 5.9603 - acc: 0.3373 - val_loss: 5.8632 - val_acc: 0.3536\n",
      "Epoch 2/25\n",
      "50000/50000 [==============================] - 2s 37us/step - loss: 4.3594 - acc: 0.4501 - val_loss: 4.8054 - val_acc: 0.4037\n",
      "Epoch 3/25\n",
      "50000/50000 [==============================] - 2s 38us/step - loss: 3.9524 - acc: 0.4863 - val_loss: 4.4751 - val_acc: 0.4229\n",
      "Epoch 4/25\n",
      "50000/50000 [==============================] - 2s 39us/step - loss: 3.6770 - acc: 0.5146 - val_loss: 4.3528 - val_acc: 0.4373\n",
      "Epoch 5/25\n",
      "50000/50000 [==============================] - 2s 39us/step - loss: 3.4563 - acc: 0.5361 - val_loss: 4.0659 - val_acc: 0.4639\n",
      "Epoch 6/25\n",
      "50000/50000 [==============================] - 2s 38us/step - loss: 3.2651 - acc: 0.5552 - val_loss: 4.0418 - val_acc: 0.4683\n",
      "Epoch 7/25\n"
     ]
    },
    {
     "name": "stdout",
     "output_type": "stream",
     "text": [
      "50000/50000 [==============================] - 2s 38us/step - loss: 3.0980 - acc: 0.5734 - val_loss: 4.1403 - val_acc: 0.4665\n",
      "Epoch 8/25\n",
      "50000/50000 [==============================] - 2s 37us/step - loss: 2.9443 - acc: 0.5896 - val_loss: 3.9025 - val_acc: 0.4880\n",
      "Epoch 9/25\n",
      "50000/50000 [==============================] - 2s 38us/step - loss: 2.7921 - acc: 0.6072 - val_loss: 3.9421 - val_acc: 0.4750\n",
      "Epoch 10/25\n",
      "50000/50000 [==============================] - 2s 38us/step - loss: 2.6513 - acc: 0.6208 - val_loss: 3.9402 - val_acc: 0.4822\n",
      "Epoch 11/25\n",
      "50000/50000 [==============================] - 2s 38us/step - loss: 2.5246 - acc: 0.6349 - val_loss: 4.0429 - val_acc: 0.4755\n",
      "Epoch 12/25\n",
      "50000/50000 [==============================] - 2s 37us/step - loss: 2.3990 - acc: 0.6487 - val_loss: 4.1341 - val_acc: 0.4701\n",
      "Epoch 13/25\n",
      "50000/50000 [==============================] - 2s 38us/step - loss: 2.2737 - acc: 0.6616 - val_loss: 4.0008 - val_acc: 0.4795\n",
      "Epoch 14/25\n",
      "50000/50000 [==============================] - 2s 38us/step - loss: 2.1499 - acc: 0.6761 - val_loss: 3.9905 - val_acc: 0.4849\n",
      "Epoch 15/25\n",
      "50000/50000 [==============================] - 2s 38us/step - loss: 2.0321 - acc: 0.6914 - val_loss: 4.1032 - val_acc: 0.4729\n",
      "Epoch 16/25\n",
      "50000/50000 [==============================] - 2s 38us/step - loss: 1.9139 - acc: 0.7069 - val_loss: 4.2527 - val_acc: 0.4747\n",
      "Epoch 17/25\n",
      "50000/50000 [==============================] - 2s 37us/step - loss: 1.7962 - acc: 0.7209 - val_loss: 4.1131 - val_acc: 0.4817\n",
      "Epoch 18/25\n",
      "50000/50000 [==============================] - 2s 39us/step - loss: 1.6951 - acc: 0.7315 - val_loss: 4.1219 - val_acc: 0.4817\n",
      "Epoch 19/25\n",
      "50000/50000 [==============================] - 2s 38us/step - loss: 1.5807 - acc: 0.7468 - val_loss: 4.2047 - val_acc: 0.4836\n",
      "Epoch 20/25\n",
      "50000/50000 [==============================] - 2s 38us/step - loss: 1.4929 - acc: 0.7584 - val_loss: 4.2833 - val_acc: 0.4811\n",
      "Epoch 21/25\n",
      "50000/50000 [==============================] - 2s 39us/step - loss: 1.3877 - acc: 0.7738 - val_loss: 4.5270 - val_acc: 0.4736\n",
      "Epoch 22/25\n",
      "50000/50000 [==============================] - 2s 39us/step - loss: 1.2952 - acc: 0.7852 - val_loss: 4.4040 - val_acc: 0.4850\n",
      "Epoch 23/25\n",
      "50000/50000 [==============================] - 2s 38us/step - loss: 1.2043 - acc: 0.7987 - val_loss: 4.4319 - val_acc: 0.4811\n",
      "Epoch 24/25\n",
      "50000/50000 [==============================] - 2s 38us/step - loss: 1.1066 - acc: 0.8123 - val_loss: 4.5566 - val_acc: 0.4782\n",
      "Epoch 25/25\n",
      "50000/50000 [==============================] - 2s 37us/step - loss: 1.0172 - acc: 0.8261 - val_loss: 4.6861 - val_acc: 0.4739\n"
     ]
    }
   ],
   "source": [
    "import itertools\n",
    "results = {}\n",
    "\n",
    "for i, ce_w in enumerate(ce_weights_list):\n",
    "    print(\"Numbers of exp: %i, ce_weight: %.2f\" % (i, ce_w))\n",
    "\n",
    "    model = build_mlp(input_shape=x_train.shape[1:])\n",
    "    model.summary()\n",
    "    optimizer = keras.optimizers.SGD(lr=LEARNING_RATE, nesterov=True, momentum=MOMENTUM)\n",
    "    \"\"\"Code Here\n",
    "    將自定義的 loss function 加入模型\n",
    "    \"\"\"\n",
    "    model.compile(loss=focal_loss(), metrics=[\"accuracy\"], optimizer=optimizer)\n",
    "\n",
    "    model.fit(x_train, y_train, \n",
    "              epochs=EPOCHS, \n",
    "              batch_size=BATCH_SIZE, \n",
    "              validation_data=(x_test, y_test), \n",
    "              shuffle=True\n",
    "             )\n",
    "    \n",
    "    # Collect results\n",
    "    exp_name_tag = (\"exp-%s\" % (i))\n",
    "    results[exp_name_tag] = {'train-loss': model.history.history[\"loss\"],\n",
    "                             'valid-loss': model.history.history[\"val_loss\"],\n",
    "                             'train-acc': model.history.history[\"acc\"],\n",
    "                             'valid-acc': model.history.history[\"val_acc\"]}"
   ]
  },
  {
   "cell_type": "code",
   "execution_count": 9,
   "metadata": {},
   "outputs": [
    {
     "data": {
      "image/png": "[encoded data removed]",
      "text/plain": [
       "<Figure size 576x432 with 1 Axes>"
      ]
     },
     "metadata": {
      "needs_background": "light"
     },
     "output_type": "display_data"
    },
    {
     "data": {
      "image/png": "[encoded data removed]",
      "text/plain": [
       "<Figure size 576x432 with 1 Axes>"
      ]
     },
     "metadata": {
      "needs_background": "light"
     },
     "output_type": "display_data"
    }
   ],
   "source": [
    "import matplotlib.pyplot as plt\n",
    "import matplotlib.cm as mplcm\n",
    "import matplotlib.colors as colors\n",
    "%matplotlib inline\n",
    "NUM_COLORS = len(results.keys())\n",
    "\n",
    "cm = plt.get_cmap('gist_rainbow')\n",
    "cNorm  = colors.Normalize(vmin=0, vmax=NUM_COLORS-1)\n",
    "scalarMap = mplcm.ScalarMappable(norm=cNorm, cmap=cm)\n",
    "color_bar = [scalarMap.to_rgba(i) for i in range(NUM_COLORS)]\n",
    "\n",
    "plt.figure(figsize=(8,6))\n",
    "for i, cond in enumerate(results.keys()):\n",
    "    plt.plot(range(len(results[cond]['train-loss'])),results[cond]['train-loss'], '-', label=cond, color=color_bar[i])\n",
    "    plt.plot(range(len(results[cond]['valid-loss'])),results[cond]['valid-loss'], '--', label=cond, color=color_bar[i])\n",
    "plt.title(\"Loss\")\n",
    "plt.legend(loc='center left', bbox_to_anchor=(1, 0.5))\n",
    "plt.show()\n",
    "\n",
    "plt.figure(figsize=(8,6))\n",
    "for i, cond in enumerate(results.keys()):\n",
    "    plt.plot(range(len(results[cond]['train-acc'])),results[cond]['train-acc'], '-', label=cond, color=color_bar[i])\n",
    "    plt.plot(range(len(results[cond]['valid-acc'])),results[cond]['valid-acc'], '--', label=cond, color=color_bar[i])\n",
    "plt.title(\"Accuracy\")\n",
    "plt.legend(loc='center left', bbox_to_anchor=(1, 0.5))\n",
    "plt.show()"
   ]
  },
  {
   "cell_type": "code",
   "execution_count": null,
   "metadata": {},
   "outputs": [],
   "source": []
  }
 ],
 "metadata": {
  "kernelspec": {
   "display_name": "Python [conda env:tensorflow-gpu]",
   "language": "python",
   "name": "conda-env-tensorflow-gpu-py"
  },
  "language_info": {
   "codemirror_mode": {
    "name": "ipython",
    "version": 3
   },
   "file_extension": ".py",
   "mimetype": "text/x-python",
   "name": "python",
   "nbconvert_exporter": "python",
   "pygments_lexer": "ipython3",
   "version": "3.7.3"
  }
 },
 "nbformat": 4,
 "nbformat_minor": 2
}
