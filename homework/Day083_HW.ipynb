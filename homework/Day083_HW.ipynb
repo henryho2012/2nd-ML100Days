{
 "cells": [
  {
   "cell_type": "markdown",
   "metadata": {},
   "source": [
    "## Work\n",
    "1. 試比較有 BN 在 Batch_size = 2, 16, 32, 128, 256 下的差異\n",
    "2. 請嘗試將 BN 放在 Activation 之前，並比較訓練結果\n",
    "3. 請於 BN 放在 Input Layer 後，並比較結果"
   ]
  },
  {
   "cell_type": "code",
   "execution_count": 1,
   "metadata": {},
   "outputs": [
    {
     "name": "stderr",
     "output_type": "stream",
     "text": [
      "Using TensorFlow backend.\n"
     ]
    }
   ],
   "source": [
    "import os\n",
    "import keras\n",
    "import itertools\n",
    "# Disable GPU\n",
    "# os.environ[\"CUDA_VISIBLE_DEVICES\"] = \"\""
   ]
  },
  {
   "cell_type": "code",
   "execution_count": 2,
   "metadata": {},
   "outputs": [],
   "source": [
    "train, test = keras.datasets.cifar10.load_data()"
   ]
  },
  {
   "cell_type": "code",
   "execution_count": 3,
   "metadata": {},
   "outputs": [],
   "source": [
    "## 資料前處理\n",
    "def preproc_x(x, flatten=True):\n",
    "    x = x / 255.\n",
    "    if flatten:\n",
    "        x = x.reshape((len(x), -1))\n",
    "    return x\n",
    "\n",
    "def preproc_y(y, num_classes=10):\n",
    "    if y.shape[-1] == 1:\n",
    "        y = keras.utils.to_categorical(y, num_classes)\n",
    "    return y    "
   ]
  },
  {
   "cell_type": "code",
   "execution_count": 4,
   "metadata": {},
   "outputs": [],
   "source": [
    "x_train, y_train = train\n",
    "x_test, y_test = test\n",
    "\n",
    "# Preproc the inputs\n",
    "x_train = preproc_x(x_train)\n",
    "x_test = preproc_x(x_test)\n",
    "\n",
    "# Preprc the outputs\n",
    "y_train = preproc_y(y_train)\n",
    "y_test = preproc_y(y_test)"
   ]
  },
  {
   "cell_type": "code",
   "execution_count": 5,
   "metadata": {},
   "outputs": [],
   "source": [
    "from keras.layers import BatchNormalization\n",
    "\n",
    "\"\"\"\n",
    "建立神經網路，並加入 BN layer\n",
    "\"\"\"\n",
    "def build_mlp(input_shape, output_units=10, num_neurons=[512, 256, 128]):\n",
    "    \"\"\"Code Here\n",
    "    建立你的神經網路\n",
    "    \"\"\"\n",
    "    input_layer = keras.layers.Input(input_shape)\n",
    "    \n",
    "    for i, n_units in enumerate(num_neurons):\n",
    "        if i == 0:\n",
    "            x = keras.layers.Dense(units=n_units, \n",
    "                                   activation=\"relu\", \n",
    "                                   name=\"hidden_layer\"+str(i+1))(input_layer)\n",
    "            x = BatchNormalization()(x)\n",
    "        else:\n",
    "            x = keras.layers.Dense(units=n_units, \n",
    "                                   activation=\"relu\", \n",
    "                                   name=\"hidden_layer\"+str(i+1))(x)\n",
    "            x = BatchNormalization()(x)\n",
    "    \n",
    "    out = keras.layers.Dense(units=output_units, activation=\"softmax\", name=\"output\")(x)\n",
    "    \n",
    "    model = keras.models.Model(inputs=[input_layer], outputs=[out])    \n",
    "    return model"
   ]
  },
  {
   "cell_type": "code",
   "execution_count": 6,
   "metadata": {},
   "outputs": [],
   "source": [
    "\"\"\"Code Here\n",
    "設定超參數\n",
    "\"\"\"\n",
    "LEARNING_RATE = 1e-3\n",
    "EPOCHS = 50\n",
    "# BATCH_SIZE = [2, 16, 32, 128, 256]\n",
    "BATCH_SIZE = [256]\n",
    "MOMENTUM = 0.95"
   ]
  },
  {
   "cell_type": "code",
   "execution_count": 8,
   "metadata": {
    "scrolled": true
   },
   "outputs": [
    {
     "name": "stdout",
     "output_type": "stream",
     "text": [
      "Experiment with BATCH_SIZE = 256.000000\n",
      "_________________________________________________________________\n",
      "Layer (type)                 Output Shape              Param #   \n",
      "=================================================================\n",
      "input_1 (InputLayer)         (None, 3072)              0         \n",
      "_________________________________________________________________\n",
      "hidden_layer1 (Dense)        (None, 512)               1573376   \n",
      "_________________________________________________________________\n",
      "batch_normalization_1 (Batch (None, 512)               2048      \n",
      "_________________________________________________________________\n",
      "hidden_layer2 (Dense)        (None, 256)               131328    \n",
      "_________________________________________________________________\n",
      "batch_normalization_2 (Batch (None, 256)               1024      \n",
      "_________________________________________________________________\n",
      "hidden_layer3 (Dense)        (None, 128)               32896     \n",
      "_________________________________________________________________\n",
      "batch_normalization_3 (Batch (None, 128)               512       \n",
      "_________________________________________________________________\n",
      "output (Dense)               (None, 10)                1290      \n",
      "=================================================================\n",
      "Total params: 1,742,474\n",
      "Trainable params: 1,740,682\n",
      "Non-trainable params: 1,792\n",
      "_________________________________________________________________\n",
      "Train on 50000 samples, validate on 10000 samples\n",
      "Epoch 1/50\n",
      "50000/50000 [==============================] - 7s 131us/step - loss: 1.7240 - acc: 0.3938 - val_loss: 1.5848 - val_acc: 0.4381\n",
      "Epoch 2/50\n",
      "50000/50000 [==============================] - 6s 113us/step - loss: 1.4882 - acc: 0.4739 - val_loss: 1.5776 - val_acc: 0.4407\n",
      "Epoch 3/50\n",
      "50000/50000 [==============================] - 6s 116us/step - loss: 1.4016 - acc: 0.5000 - val_loss: 1.5553 - val_acc: 0.4481\n",
      "Epoch 4/50\n",
      "50000/50000 [==============================] - 6s 115us/step - loss: 1.3399 - acc: 0.5228 - val_loss: 1.4787 - val_acc: 0.4731\n",
      "Epoch 5/50\n",
      "50000/50000 [==============================] - 6s 115us/step - loss: 1.2865 - acc: 0.5432 - val_loss: 1.4665 - val_acc: 0.4750\n",
      "Epoch 6/50\n",
      "50000/50000 [==============================] - 6s 114us/step - loss: 1.2430 - acc: 0.5600 - val_loss: 1.5373 - val_acc: 0.4570\n",
      "Epoch 7/50\n",
      "50000/50000 [==============================] - 6s 115us/step - loss: 1.2083 - acc: 0.5725 - val_loss: 1.6258 - val_acc: 0.4499\n",
      "Epoch 8/50\n",
      "50000/50000 [==============================] - 6s 112us/step - loss: 1.1782 - acc: 0.5834 - val_loss: 1.5986 - val_acc: 0.4476\n",
      "Epoch 9/50\n",
      "50000/50000 [==============================] - 6s 118us/step - loss: 1.1485 - acc: 0.5962 - val_loss: 1.5563 - val_acc: 0.4567\n",
      "Epoch 10/50\n",
      "50000/50000 [==============================] - 6s 114us/step - loss: 1.1197 - acc: 0.6045 - val_loss: 1.5947 - val_acc: 0.4526\n",
      "Epoch 11/50\n",
      "50000/50000 [==============================] - 6s 115us/step - loss: 1.0978 - acc: 0.6128 - val_loss: 1.6069 - val_acc: 0.4528\n",
      "Epoch 12/50\n",
      "50000/50000 [==============================] - 6s 115us/step - loss: 1.0738 - acc: 0.6185 - val_loss: 1.5240 - val_acc: 0.4750\n",
      "Epoch 13/50\n",
      "50000/50000 [==============================] - 6s 115us/step - loss: 1.0555 - acc: 0.6252 - val_loss: 1.4663 - val_acc: 0.4996\n",
      "Epoch 14/50\n",
      "50000/50000 [==============================] - 6s 114us/step - loss: 1.0407 - acc: 0.6322 - val_loss: 1.5949 - val_acc: 0.4543\n",
      "Epoch 15/50\n",
      "50000/50000 [==============================] - 6s 113us/step - loss: 1.0198 - acc: 0.6376 - val_loss: 1.5482 - val_acc: 0.4738\n",
      "Epoch 16/50\n",
      "50000/50000 [==============================] - 6s 114us/step - loss: 0.9898 - acc: 0.6476 - val_loss: 1.5151 - val_acc: 0.4831\n",
      "Epoch 17/50\n",
      "50000/50000 [==============================] - 6s 115us/step - loss: 0.9594 - acc: 0.6603 - val_loss: 1.5243 - val_acc: 0.4878\n",
      "Epoch 18/50\n",
      "50000/50000 [==============================] - 6s 113us/step - loss: 0.9504 - acc: 0.6619 - val_loss: 1.4607 - val_acc: 0.5043\n",
      "Epoch 19/50\n",
      "50000/50000 [==============================] - 6s 115us/step - loss: 0.9158 - acc: 0.6742 - val_loss: 1.8170 - val_acc: 0.4272\n",
      "Epoch 20/50\n",
      "50000/50000 [==============================] - 6s 115us/step - loss: 0.9086 - acc: 0.6784 - val_loss: 1.5295 - val_acc: 0.4912\n",
      "Epoch 21/50\n",
      "50000/50000 [==============================] - 6s 114us/step - loss: 0.8832 - acc: 0.6865 - val_loss: 1.7688 - val_acc: 0.4425\n",
      "Epoch 22/50\n",
      "50000/50000 [==============================] - 6s 115us/step - loss: 0.8845 - acc: 0.6854 - val_loss: 1.5328 - val_acc: 0.4933\n",
      "Epoch 23/50\n",
      "50000/50000 [==============================] - 6s 116us/step - loss: 0.8568 - acc: 0.6949 - val_loss: 1.6497 - val_acc: 0.4801\n",
      "Epoch 24/50\n",
      "50000/50000 [==============================] - 6s 114us/step - loss: 0.8327 - acc: 0.7052 - val_loss: 1.6272 - val_acc: 0.4795\n",
      "Epoch 25/50\n",
      "50000/50000 [==============================] - 6s 113us/step - loss: 0.8097 - acc: 0.7118 - val_loss: 1.8280 - val_acc: 0.4479\n",
      "Epoch 26/50\n",
      "50000/50000 [==============================] - 6s 116us/step - loss: 0.8031 - acc: 0.7146 - val_loss: 1.6784 - val_acc: 0.4816\n",
      "Epoch 27/50\n",
      "50000/50000 [==============================] - 6s 117us/step - loss: 0.7938 - acc: 0.7190 - val_loss: 1.6880 - val_acc: 0.4630\n",
      "Epoch 28/50\n",
      "50000/50000 [==============================] - 6s 119us/step - loss: 0.7873 - acc: 0.7199 - val_loss: 1.7320 - val_acc: 0.4609\n",
      "Epoch 29/50\n",
      "50000/50000 [==============================] - 6s 111us/step - loss: 0.7635 - acc: 0.7274 - val_loss: 1.7057 - val_acc: 0.4860\n",
      "Epoch 30/50\n",
      "50000/50000 [==============================] - 6s 113us/step - loss: 0.7491 - acc: 0.7314 - val_loss: 1.7041 - val_acc: 0.4818\n",
      "Epoch 31/50\n",
      "50000/50000 [==============================] - 6s 114us/step - loss: 0.7251 - acc: 0.7411 - val_loss: 1.8467 - val_acc: 0.4648\n",
      "Epoch 32/50\n",
      "50000/50000 [==============================] - 6s 113us/step - loss: 0.7163 - acc: 0.7469 - val_loss: 1.7249 - val_acc: 0.4861\n",
      "Epoch 33/50\n",
      "50000/50000 [==============================] - 6s 113us/step - loss: 0.7106 - acc: 0.7456 - val_loss: 1.8767 - val_acc: 0.4577\n",
      "Epoch 34/50\n",
      "50000/50000 [==============================] - 6s 114us/step - loss: 0.6888 - acc: 0.7553 - val_loss: 1.7868 - val_acc: 0.4770\n",
      "Epoch 35/50\n",
      "50000/50000 [==============================] - 6s 114us/step - loss: 0.6709 - acc: 0.7602 - val_loss: 1.8455 - val_acc: 0.4755\n",
      "Epoch 36/50\n",
      "50000/50000 [==============================] - 6s 112us/step - loss: 0.6572 - acc: 0.7656 - val_loss: 1.8412 - val_acc: 0.4608\n",
      "Epoch 37/50\n",
      "50000/50000 [==============================] - 6s 114us/step - loss: 0.6530 - acc: 0.7670 - val_loss: 1.9107 - val_acc: 0.4608\n",
      "Epoch 38/50\n",
      "50000/50000 [==============================] - 6s 114us/step - loss: 0.6369 - acc: 0.7722 - val_loss: 1.7800 - val_acc: 0.4906\n",
      "Epoch 39/50\n",
      "50000/50000 [==============================] - 6s 114us/step - loss: 0.6221 - acc: 0.7796 - val_loss: 1.8510 - val_acc: 0.4731\n",
      "Epoch 40/50\n",
      "50000/50000 [==============================] - 6s 113us/step - loss: 0.6110 - acc: 0.7816 - val_loss: 1.8814 - val_acc: 0.4633\n",
      "Epoch 41/50\n",
      "50000/50000 [==============================] - 6s 114us/step - loss: 0.6125 - acc: 0.7814 - val_loss: 1.8578 - val_acc: 0.4843\n",
      "Epoch 42/50\n",
      "50000/50000 [==============================] - 6s 114us/step - loss: 0.5954 - acc: 0.7888 - val_loss: 1.9207 - val_acc: 0.4743\n",
      "Epoch 43/50\n",
      "50000/50000 [==============================] - 6s 114us/step - loss: 0.5857 - acc: 0.7905 - val_loss: 1.9364 - val_acc: 0.4813\n",
      "Epoch 44/50\n",
      "50000/50000 [==============================] - 6s 113us/step - loss: 0.5683 - acc: 0.7976 - val_loss: 2.0869 - val_acc: 0.4623\n",
      "Epoch 45/50\n",
      "50000/50000 [==============================] - 6s 113us/step - loss: 0.5628 - acc: 0.7999 - val_loss: 1.9776 - val_acc: 0.4775\n",
      "Epoch 46/50\n",
      "50000/50000 [==============================] - 6s 113us/step - loss: 0.5487 - acc: 0.8045 - val_loss: 2.0607 - val_acc: 0.4701\n",
      "Epoch 47/50\n",
      "50000/50000 [==============================] - 6s 113us/step - loss: 0.5423 - acc: 0.8053 - val_loss: 2.0702 - val_acc: 0.4734\n",
      "Epoch 48/50\n",
      "50000/50000 [==============================] - 6s 112us/step - loss: 0.5291 - acc: 0.8115 - val_loss: 1.9581 - val_acc: 0.4800\n",
      "Epoch 49/50\n"
     ]
    },
    {
     "name": "stdout",
     "output_type": "stream",
     "text": [
      "50000/50000 [==============================] - 6s 113us/step - loss: 0.5147 - acc: 0.8163 - val_loss: 2.1638 - val_acc: 0.4572\n",
      "Epoch 50/50\n",
      "50000/50000 [==============================] - 6s 114us/step - loss: 0.5082 - acc: 0.8188 - val_loss: 1.9911 - val_acc: 0.4792\n"
     ]
    }
   ],
   "source": [
    "results = {}\n",
    "\"\"\"Code Here\n",
    "撰寫你的訓練流程並將結果用 dictionary 紀錄\n",
    "\"\"\"\n",
    "for bs in itertools.product(BATCH_SIZE):\n",
    "    keras.backend.clear_session() # 把舊的 Graph 清掉\n",
    "    print(\"Experiment with BATCH_SIZE = %.6f\" % (bs))\n",
    "    model = build_mlp(input_shape=x_train.shape[1:])\n",
    "    model.summary()\n",
    "    \n",
    "    optimizer = keras.optimizers.SGD(lr=LEARNING_RATE, nesterov=True, momentum=MOMENTUM)\n",
    "    model.compile(loss=\"categorical_crossentropy\", metrics=[\"accuracy\"], optimizer=optimizer)\n",
    "\n",
    "    model.fit(x_train, y_train, \n",
    "              epochs=EPOCHS, \n",
    "              batch_size=64, \n",
    "              validation_data=(x_test, y_test), \n",
    "              shuffle=True)\n",
    "    \n",
    "    # Collect results\n",
    "    train_loss = model.history.history[\"loss\"]\n",
    "    valid_loss = model.history.history[\"val_loss\"]\n",
    "    train_acc = model.history.history[\"acc\"]\n",
    "    valid_acc = model.history.history[\"val_acc\"]\n",
    "    \n",
    "    exp_name_tag = \"exp-bs-%s\" % (str(bs))\n",
    "    results[exp_name_tag] = {'train-loss': train_loss,\n",
    "                             'valid-loss': valid_loss,\n",
    "                             'train-acc': train_acc,\n",
    "                             'valid-acc': valid_acc}"
   ]
  },
  {
   "cell_type": "code",
   "execution_count": 9,
   "metadata": {},
   "outputs": [
    {
     "data": {
      "image/png": "[encoded data removed]",
      "text/plain": [
       "<Figure size 576x432 with 1 Axes>"
      ]
     },
     "metadata": {
      "needs_background": "light"
     },
     "output_type": "display_data"
    },
    {
     "data": {
      "image/png": "[encoded data removed]",
      "text/plain": [
       "<Figure size 576x432 with 1 Axes>"
      ]
     },
     "metadata": {
      "needs_background": "light"
     },
     "output_type": "display_data"
    }
   ],
   "source": [
    "import matplotlib.pyplot as plt\n",
    "%matplotlib inline\n",
    "\"\"\"Code Here\n",
    "將結果繪出\n",
    "\"\"\"\n",
    "NUM_COLORS = len(results.keys())\n",
    "cm = plt.get_cmap('gist_rainbow')\n",
    "color_bar = [cm(1.*i/NUM_COLORS) for i in range(NUM_COLORS)]\n",
    "\n",
    "plt.figure(figsize=(8,6))\n",
    "for i, cond in enumerate(results.keys()):\n",
    "    plt.plot(range(len(results[cond]['train-loss'])),results[cond]['train-loss'], '-', label=cond, color=color_bar[i])\n",
    "    plt.plot(range(len(results[cond]['valid-loss'])),results[cond]['valid-loss'], '--', label=cond, color=color_bar[i])\n",
    "plt.title(\"Loss\")\n",
    "plt.legend(loc='center left', bbox_to_anchor=(1, 0.5))\n",
    "plt.show()\n",
    "\n",
    "plt.figure(figsize=(8,6))\n",
    "for i, cond in enumerate(results.keys()):\n",
    "    plt.plot(range(len(results[cond]['train-acc'])),results[cond]['train-acc'], '-', label=cond, color=color_bar[i])\n",
    "    plt.plot(range(len(results[cond]['valid-acc'])),results[cond]['valid-acc'], '--', label=cond, color=color_bar[i])\n",
    "plt.title(\"Accuracy\")\n",
    "plt.legend(loc='center left', bbox_to_anchor=(1, 0.5))\n",
    "plt.show()"
   ]
  },
  {
   "cell_type": "code",
   "execution_count": null,
   "metadata": {},
   "outputs": [],
   "source": []
  }
 ],
 "metadata": {
  "kernelspec": {
   "display_name": "Python [conda env:tensorflow-gpu]",
   "language": "python",
   "name": "conda-env-tensorflow-gpu-py"
  },
  "language_info": {
   "codemirror_mode": {
    "name": "ipython",
    "version": 3
   },
   "file_extension": ".py",
   "mimetype": "text/x-python",
   "name": "python",
   "nbconvert_exporter": "python",
   "pygments_lexer": "ipython3",
   "version": "3.7.3"
  }
 },
 "nbformat": 4,
 "nbformat_minor": 2
}
