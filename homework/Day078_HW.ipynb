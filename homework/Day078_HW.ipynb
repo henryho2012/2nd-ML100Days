{
 "cells": [
  {
   "cell_type": "markdown",
   "metadata": {},
   "source": [
    "## Work\n",
    "1. 請嘗試將 preproc_x 替換成以每筆資料的 min/max 進行標準化至 -1 ~ 1 間，再進行訓練\n",
    "2. 請嘗試將 mlp 疊更深 (e.g 5~10 層)，進行訓練後觀察 learning curve 的走勢\n",
    "3. (optional) 請改用 GPU 進行訓練 (如果你有 GPU 的話)，比較使用 CPU 與 GPU 的訓練速度"
   ]
  },
  {
   "cell_type": "code",
   "execution_count": 8,
   "metadata": {},
   "outputs": [
    {
     "name": "stderr",
     "output_type": "stream",
     "text": [
      "'nvidia-smi' 不是內部或外部命令、可執行的程式或批次檔。\n"
     ]
    }
   ],
   "source": [
    "## \n",
    "\"\"\"\n",
    "Your code here (optional)\n",
    "確認硬體資源\n",
    "\"\"\"\n",
    "!nvidia-smi"
   ]
  },
  {
   "cell_type": "code",
   "execution_count": 10,
   "metadata": {},
   "outputs": [],
   "source": [
    "import os\n",
    "import keras\n",
    "\n",
    "# 請嘗試設定 GPU：os.environ\n",
    "os.environ[\"CUDA_VISIBLE_DEVICES\"] = \"\""
   ]
  },
  {
   "cell_type": "code",
   "execution_count": 11,
   "metadata": {},
   "outputs": [],
   "source": [
    "train, test = keras.datasets.cifar10.load_data()"
   ]
  },
  {
   "cell_type": "code",
   "execution_count": 12,
   "metadata": {},
   "outputs": [],
   "source": [
    "## 資料前處理\n",
    "\"\"\"\n",
    "Your code here\n",
    "\"\"\"\n",
    "def preproc_x(x, flatten=True):\n",
    "    x = x / 255.\n",
    "    if flatten:\n",
    "        x = x.reshape((len(x), -1))\n",
    "    return x\n",
    "\n",
    "def preproc_y(y, num_classes=10):\n",
    "    if y.shape[-1] == 1:\n",
    "        y = keras.utils.to_categorical(y, num_classes)\n",
    "    return y    "
   ]
  },
  {
   "cell_type": "code",
   "execution_count": 13,
   "metadata": {},
   "outputs": [],
   "source": [
    "x_train, y_train = train\n",
    "x_test, y_test = test\n",
    "\n",
    "# Preproc the inputs\n",
    "x_train = preproc_x(x_train)\n",
    "x_test = preproc_x(x_test)\n",
    "\n",
    "# Preprc the outputs\n",
    "y_train = preproc_y(y_train)\n",
    "y_test = preproc_y(y_test)"
   ]
  },
  {
   "cell_type": "code",
   "execution_count": 14,
   "metadata": {},
   "outputs": [
    {
     "name": "stdout",
     "output_type": "stream",
     "text": [
      "_________________________________________________________________\n",
      "Layer (type)                 Output Shape              Param #   \n",
      "=================================================================\n",
      "input_2 (InputLayer)         (None, 3072)              0         \n",
      "_________________________________________________________________\n",
      "hidden_layer1 (Dense)        (None, 512)               1573376   \n",
      "_________________________________________________________________\n",
      "hidden_layer2 (Dense)        (None, 256)               131328    \n",
      "_________________________________________________________________\n",
      "hidden_layer3 (Dense)        (None, 128)               32896     \n",
      "_________________________________________________________________\n",
      "output (Dense)               (None, 10)                1290      \n",
      "=================================================================\n",
      "Total params: 1,738,890\n",
      "Trainable params: 1,738,890\n",
      "Non-trainable params: 0\n",
      "_________________________________________________________________\n"
     ]
    }
   ],
   "source": [
    "\"\"\"Code Here\n",
    "建立你的神經網路\n",
    "\"\"\"\n",
    "def build_mlp(input_shape, output_units=10, num_neurons=[512, 256, 128]):\n",
    "    input_layer = keras.layers.Input(input_shape)\n",
    "    \n",
    "    for i, n_units in enumerate(num_neurons):\n",
    "        if i == 0:\n",
    "            x = keras.layers.Dense(units=n_units, activation=\"relu\", name=\"hidden_layer\"+str(i+1))(input_layer)\n",
    "        else:\n",
    "            x = keras.layers.Dense(units=n_units, activation=\"relu\", name=\"hidden_layer\"+str(i+1))(x)\n",
    "    \n",
    "    out = keras.layers.Dense(units=output_units, activation=\"softmax\", name=\"output\")(x)\n",
    "    \n",
    "    model = keras.models.Model(inputs=[input_layer], outputs=[out])\n",
    "    return model\n",
    "\n",
    "model = build_mlp(input_shape=x_train.shape[1:])\n",
    "\n",
    "model.summary()"
   ]
  },
  {
   "cell_type": "code",
   "execution_count": 15,
   "metadata": {},
   "outputs": [],
   "source": [
    "## 超參數設定\n",
    "LEARNING_RATE = 0.001\n",
    "EPOCHS = 100\n",
    "BATCH_SIZE = 256"
   ]
  },
  {
   "cell_type": "code",
   "execution_count": 16,
   "metadata": {},
   "outputs": [],
   "source": [
    "optimizer = keras.optimizers.Adam(lr=LEARNING_RATE)\n",
    "model.compile(loss=\"categorical_crossentropy\", metrics=[\"accuracy\"], optimizer=optimizer)"
   ]
  },
  {
   "cell_type": "code",
   "execution_count": 17,
   "metadata": {},
   "outputs": [
    {
     "name": "stdout",
     "output_type": "stream",
     "text": [
      "WARNING:tensorflow:From C:\\ProgramData\\Anaconda3\\envs\\tensorflow-gpu\\lib\\site-packages\\tensorflow\\python\\ops\\math_ops.py:3066: to_int32 (from tensorflow.python.ops.math_ops) is deprecated and will be removed in a future version.\n",
      "Instructions for updating:\n",
      "Use tf.cast instead.\n",
      "Train on 50000 samples, validate on 10000 samples\n",
      "Epoch 1/100\n",
      "50000/50000 [==============================] - 4s 81us/step - loss: 1.9237 - acc: 0.3040 - val_loss: 1.7479 - val_acc: 0.3667\n",
      "Epoch 2/100\n",
      "50000/50000 [==============================] - 3s 53us/step - loss: 1.7109 - acc: 0.3875 - val_loss: 1.6645 - val_acc: 0.3999\n",
      "Epoch 3/100\n",
      "50000/50000 [==============================] - 3s 52us/step - loss: 1.6285 - acc: 0.4188 - val_loss: 1.5744 - val_acc: 0.4431\n",
      "Epoch 4/100\n",
      "50000/50000 [==============================] - 3s 52us/step - loss: 1.5586 - acc: 0.4447 - val_loss: 1.5946 - val_acc: 0.4466\n",
      "Epoch 5/100\n",
      "50000/50000 [==============================] - 3s 52us/step - loss: 1.5091 - acc: 0.4610 - val_loss: 1.5023 - val_acc: 0.4667\n",
      "Epoch 6/100\n",
      "50000/50000 [==============================] - 3s 52us/step - loss: 1.4704 - acc: 0.4759 - val_loss: 1.5131 - val_acc: 0.4598\n",
      "Epoch 7/100\n",
      "50000/50000 [==============================] - 3s 52us/step - loss: 1.4392 - acc: 0.4885 - val_loss: 1.4755 - val_acc: 0.4675\n",
      "Epoch 8/100\n",
      "50000/50000 [==============================] - 3s 52us/step - loss: 1.4008 - acc: 0.5032 - val_loss: 1.4438 - val_acc: 0.4858\n",
      "Epoch 9/100\n",
      "50000/50000 [==============================] - 3s 52us/step - loss: 1.3814 - acc: 0.5102 - val_loss: 1.4268 - val_acc: 0.4923\n",
      "Epoch 10/100\n",
      "50000/50000 [==============================] - 3s 52us/step - loss: 1.3428 - acc: 0.5210 - val_loss: 1.4501 - val_acc: 0.4917\n",
      "Epoch 11/100\n",
      "50000/50000 [==============================] - 3s 52us/step - loss: 1.3262 - acc: 0.5293 - val_loss: 1.4294 - val_acc: 0.4906\n",
      "Epoch 12/100\n",
      "50000/50000 [==============================] - 3s 52us/step - loss: 1.3025 - acc: 0.5358 - val_loss: 1.4421 - val_acc: 0.4855\n",
      "Epoch 13/100\n",
      "50000/50000 [==============================] - 3s 52us/step - loss: 1.2754 - acc: 0.5450 - val_loss: 1.3845 - val_acc: 0.5096\n",
      "Epoch 14/100\n",
      "50000/50000 [==============================] - 3s 52us/step - loss: 1.2484 - acc: 0.5576 - val_loss: 1.4139 - val_acc: 0.5020\n",
      "Epoch 15/100\n",
      "50000/50000 [==============================] - 3s 52us/step - loss: 1.2348 - acc: 0.5604 - val_loss: 1.3947 - val_acc: 0.5102\n",
      "Epoch 16/100\n",
      "50000/50000 [==============================] - 3s 52us/step - loss: 1.2009 - acc: 0.5708 - val_loss: 1.4218 - val_acc: 0.5038\n",
      "Epoch 17/100\n",
      "50000/50000 [==============================] - 3s 52us/step - loss: 1.1910 - acc: 0.5790 - val_loss: 1.4023 - val_acc: 0.5083\n",
      "Epoch 18/100\n",
      "50000/50000 [==============================] - 3s 52us/step - loss: 1.1662 - acc: 0.5851 - val_loss: 1.3850 - val_acc: 0.5128\n",
      "Epoch 19/100\n",
      "50000/50000 [==============================] - 3s 53us/step - loss: 1.1455 - acc: 0.5920 - val_loss: 1.3803 - val_acc: 0.5193\n",
      "Epoch 20/100\n",
      "50000/50000 [==============================] - 3s 52us/step - loss: 1.1297 - acc: 0.5989 - val_loss: 1.4002 - val_acc: 0.5202\n",
      "Epoch 21/100\n",
      "50000/50000 [==============================] - 3s 54us/step - loss: 1.1091 - acc: 0.6033 - val_loss: 1.3790 - val_acc: 0.5247\n",
      "Epoch 22/100\n",
      "50000/50000 [==============================] - 3s 54us/step - loss: 1.0830 - acc: 0.6142 - val_loss: 1.3964 - val_acc: 0.5244\n",
      "Epoch 23/100\n",
      "50000/50000 [==============================] - 3s 52us/step - loss: 1.0663 - acc: 0.6214 - val_loss: 1.3888 - val_acc: 0.5237\n",
      "Epoch 24/100\n",
      "50000/50000 [==============================] - 3s 52us/step - loss: 1.0485 - acc: 0.6261 - val_loss: 1.4382 - val_acc: 0.5150\n",
      "Epoch 25/100\n",
      "50000/50000 [==============================] - 3s 53us/step - loss: 1.0252 - acc: 0.6352 - val_loss: 1.3851 - val_acc: 0.5280\n",
      "Epoch 26/100\n",
      "50000/50000 [==============================] - 3s 52us/step - loss: 1.0201 - acc: 0.6339 - val_loss: 1.4524 - val_acc: 0.5101\n",
      "Epoch 27/100\n",
      "50000/50000 [==============================] - 3s 52us/step - loss: 0.9878 - acc: 0.6497 - val_loss: 1.4157 - val_acc: 0.5300\n",
      "Epoch 28/100\n",
      "50000/50000 [==============================] - 3s 52us/step - loss: 0.9719 - acc: 0.6530 - val_loss: 1.4209 - val_acc: 0.5238\n",
      "Epoch 29/100\n",
      "50000/50000 [==============================] - 3s 53us/step - loss: 0.9557 - acc: 0.6605 - val_loss: 1.4161 - val_acc: 0.5222\n",
      "Epoch 30/100\n",
      "50000/50000 [==============================] - 3s 51us/step - loss: 0.9359 - acc: 0.6670 - val_loss: 1.4132 - val_acc: 0.5315\n",
      "Epoch 31/100\n",
      "50000/50000 [==============================] - 3s 51us/step - loss: 0.9229 - acc: 0.6709 - val_loss: 1.4813 - val_acc: 0.5167\n",
      "Epoch 32/100\n",
      "50000/50000 [==============================] - 3s 51us/step - loss: 0.9078 - acc: 0.6765 - val_loss: 1.4558 - val_acc: 0.5236\n",
      "Epoch 33/100\n",
      "50000/50000 [==============================] - 3s 52us/step - loss: 0.8922 - acc: 0.6815 - val_loss: 1.4876 - val_acc: 0.5212\n",
      "Epoch 34/100\n",
      "50000/50000 [==============================] - 3s 52us/step - loss: 0.8719 - acc: 0.6860 - val_loss: 1.5408 - val_acc: 0.5182\n",
      "Epoch 35/100\n",
      "50000/50000 [==============================] - 3s 53us/step - loss: 0.8584 - acc: 0.6934 - val_loss: 1.5010 - val_acc: 0.5204\n",
      "Epoch 36/100\n",
      "50000/50000 [==============================] - 3s 53us/step - loss: 0.8365 - acc: 0.6990 - val_loss: 1.5482 - val_acc: 0.5204\n",
      "Epoch 37/100\n",
      "50000/50000 [==============================] - 3s 52us/step - loss: 0.8228 - acc: 0.7031 - val_loss: 1.5078 - val_acc: 0.5234\n",
      "Epoch 38/100\n",
      "50000/50000 [==============================] - 3s 51us/step - loss: 0.8136 - acc: 0.7089 - val_loss: 1.5623 - val_acc: 0.5174\n",
      "Epoch 39/100\n",
      "50000/50000 [==============================] - 3s 52us/step - loss: 0.7950 - acc: 0.7162 - val_loss: 1.5646 - val_acc: 0.5214\n",
      "Epoch 40/100\n",
      "50000/50000 [==============================] - 3s 52us/step - loss: 0.7828 - acc: 0.7206 - val_loss: 1.5482 - val_acc: 0.5278\n",
      "Epoch 41/100\n",
      "50000/50000 [==============================] - 3s 52us/step - loss: 0.7606 - acc: 0.7271 - val_loss: 1.5788 - val_acc: 0.5251\n",
      "Epoch 42/100\n",
      "50000/50000 [==============================] - 3s 52us/step - loss: 0.7466 - acc: 0.7336 - val_loss: 1.5734 - val_acc: 0.5237\n",
      "Epoch 43/100\n",
      "50000/50000 [==============================] - 3s 52us/step - loss: 0.7285 - acc: 0.7399 - val_loss: 1.6455 - val_acc: 0.5144\n",
      "Epoch 44/100\n",
      "50000/50000 [==============================] - 3s 52us/step - loss: 0.7139 - acc: 0.7449 - val_loss: 1.6440 - val_acc: 0.5194\n",
      "Epoch 45/100\n",
      "50000/50000 [==============================] - 3s 52us/step - loss: 0.7081 - acc: 0.7464 - val_loss: 1.6822 - val_acc: 0.5154\n",
      "Epoch 46/100\n",
      "50000/50000 [==============================] - 3s 52us/step - loss: 0.6817 - acc: 0.7577 - val_loss: 1.7495 - val_acc: 0.5160\n",
      "Epoch 47/100\n",
      "50000/50000 [==============================] - 3s 52us/step - loss: 0.6863 - acc: 0.7553 - val_loss: 1.7534 - val_acc: 0.5109\n",
      "Epoch 48/100\n",
      "50000/50000 [==============================] - 3s 52us/step - loss: 0.6642 - acc: 0.7615 - val_loss: 1.7409 - val_acc: 0.5172\n",
      "Epoch 49/100\n",
      "50000/50000 [==============================] - 3s 52us/step - loss: 0.6445 - acc: 0.7682 - val_loss: 1.7522 - val_acc: 0.5163\n",
      "Epoch 50/100\n",
      "50000/50000 [==============================] - 3s 52us/step - loss: 0.6465 - acc: 0.7663 - val_loss: 1.8224 - val_acc: 0.5185\n",
      "Epoch 51/100\n",
      "50000/50000 [==============================] - 3s 52us/step - loss: 0.6125 - acc: 0.7810 - val_loss: 1.8094 - val_acc: 0.5188\n",
      "Epoch 52/100\n",
      "50000/50000 [==============================] - 3s 52us/step - loss: 0.6077 - acc: 0.7827 - val_loss: 1.8214 - val_acc: 0.5170\n",
      "Epoch 53/100\n",
      "50000/50000 [==============================] - 3s 52us/step - loss: 0.5814 - acc: 0.7945 - val_loss: 1.8542 - val_acc: 0.5218\n",
      "Epoch 54/100\n",
      "50000/50000 [==============================] - 3s 52us/step - loss: 0.6016 - acc: 0.7839 - val_loss: 1.8474 - val_acc: 0.5128\n",
      "Epoch 55/100\n",
      "50000/50000 [==============================] - 3s 52us/step - loss: 0.5753 - acc: 0.7956 - val_loss: 1.9291 - val_acc: 0.5120\n",
      "Epoch 56/100\n",
      "50000/50000 [==============================] - 3s 52us/step - loss: 0.5634 - acc: 0.7985 - val_loss: 1.9518 - val_acc: 0.5125\n",
      "Epoch 57/100\n"
     ]
    },
    {
     "name": "stdout",
     "output_type": "stream",
     "text": [
      "50000/50000 [==============================] - 3s 51us/step - loss: 0.5545 - acc: 0.8021 - val_loss: 1.9792 - val_acc: 0.5082\n",
      "Epoch 58/100\n",
      "50000/50000 [==============================] - 3s 51us/step - loss: 0.5349 - acc: 0.8074 - val_loss: 1.9980 - val_acc: 0.5064\n",
      "Epoch 59/100\n",
      "50000/50000 [==============================] - 3s 51us/step - loss: 0.5300 - acc: 0.8093 - val_loss: 2.0213 - val_acc: 0.5102\n",
      "Epoch 60/100\n",
      "50000/50000 [==============================] - 3s 52us/step - loss: 0.5267 - acc: 0.8105 - val_loss: 2.0347 - val_acc: 0.5043\n",
      "Epoch 61/100\n",
      "50000/50000 [==============================] - 3s 53us/step - loss: 0.5141 - acc: 0.8133 - val_loss: 2.0985 - val_acc: 0.5159\n",
      "Epoch 62/100\n",
      "50000/50000 [==============================] - 3s 57us/step - loss: 0.5102 - acc: 0.8174 - val_loss: 2.0991 - val_acc: 0.5098\n",
      "Epoch 63/100\n",
      "50000/50000 [==============================] - 3s 54us/step - loss: 0.5029 - acc: 0.8184 - val_loss: 2.0834 - val_acc: 0.5076\n",
      "Epoch 64/100\n",
      "50000/50000 [==============================] - 3s 51us/step - loss: 0.4986 - acc: 0.8223 - val_loss: 2.1439 - val_acc: 0.5070\n",
      "Epoch 65/100\n",
      "50000/50000 [==============================] - 3s 51us/step - loss: 0.4868 - acc: 0.8256 - val_loss: 2.1748 - val_acc: 0.5080\n",
      "Epoch 66/100\n",
      "50000/50000 [==============================] - 3s 51us/step - loss: 0.4680 - acc: 0.8318 - val_loss: 2.2903 - val_acc: 0.4982\n",
      "Epoch 67/100\n",
      "50000/50000 [==============================] - 3s 51us/step - loss: 0.4720 - acc: 0.8304 - val_loss: 2.2312 - val_acc: 0.5063\n",
      "Epoch 68/100\n",
      "50000/50000 [==============================] - 3s 52us/step - loss: 0.4389 - acc: 0.8431 - val_loss: 2.2835 - val_acc: 0.5103\n",
      "Epoch 69/100\n",
      "50000/50000 [==============================] - 3s 51us/step - loss: 0.4299 - acc: 0.8463 - val_loss: 2.3294 - val_acc: 0.4935\n",
      "Epoch 70/100\n",
      "50000/50000 [==============================] - 3s 51us/step - loss: 0.4510 - acc: 0.8373 - val_loss: 2.3057 - val_acc: 0.5051\n",
      "Epoch 71/100\n",
      "50000/50000 [==============================] - 3s 52us/step - loss: 0.4468 - acc: 0.8385 - val_loss: 2.3266 - val_acc: 0.5129\n",
      "Epoch 72/100\n",
      "50000/50000 [==============================] - 3s 51us/step - loss: 0.4143 - acc: 0.8529 - val_loss: 2.3953 - val_acc: 0.5102\n",
      "Epoch 73/100\n",
      "50000/50000 [==============================] - 3s 51us/step - loss: 0.4113 - acc: 0.8536 - val_loss: 2.3997 - val_acc: 0.5100\n",
      "Epoch 74/100\n",
      "50000/50000 [==============================] - 3s 51us/step - loss: 0.4142 - acc: 0.8533 - val_loss: 2.4786 - val_acc: 0.4983\n",
      "Epoch 75/100\n",
      "50000/50000 [==============================] - 3s 52us/step - loss: 0.4211 - acc: 0.8482 - val_loss: 2.3890 - val_acc: 0.5042\n",
      "Epoch 76/100\n",
      "50000/50000 [==============================] - 3s 51us/step - loss: 0.4181 - acc: 0.8506 - val_loss: 2.4252 - val_acc: 0.5095\n",
      "Epoch 77/100\n",
      "50000/50000 [==============================] - 3s 51us/step - loss: 0.4017 - acc: 0.8565 - val_loss: 2.4502 - val_acc: 0.5091\n",
      "Epoch 78/100\n",
      "50000/50000 [==============================] - 3s 51us/step - loss: 0.3825 - acc: 0.8627 - val_loss: 2.4929 - val_acc: 0.5137\n",
      "Epoch 79/100\n",
      "50000/50000 [==============================] - 3s 51us/step - loss: 0.3748 - acc: 0.8652 - val_loss: 2.4796 - val_acc: 0.5049\n",
      "Epoch 80/100\n",
      "50000/50000 [==============================] - 3s 51us/step - loss: 0.3850 - acc: 0.8617 - val_loss: 2.4752 - val_acc: 0.5064\n",
      "Epoch 81/100\n",
      "50000/50000 [==============================] - 3s 51us/step - loss: 0.3694 - acc: 0.8674 - val_loss: 2.5634 - val_acc: 0.5068\n",
      "Epoch 82/100\n",
      "50000/50000 [==============================] - 3s 51us/step - loss: 0.3870 - acc: 0.8624 - val_loss: 2.5787 - val_acc: 0.5102\n",
      "Epoch 83/100\n",
      "50000/50000 [==============================] - 3s 51us/step - loss: 0.3473 - acc: 0.8762 - val_loss: 2.7017 - val_acc: 0.5041\n",
      "Epoch 84/100\n",
      "50000/50000 [==============================] - 3s 52us/step - loss: 0.3357 - acc: 0.8796 - val_loss: 2.7144 - val_acc: 0.5015\n",
      "Epoch 85/100\n",
      "50000/50000 [==============================] - 3s 53us/step - loss: 0.3346 - acc: 0.8806 - val_loss: 2.7151 - val_acc: 0.5061\n",
      "Epoch 86/100\n",
      "50000/50000 [==============================] - 3s 52us/step - loss: 0.3457 - acc: 0.8765 - val_loss: 2.7817 - val_acc: 0.4970\n",
      "Epoch 87/100\n",
      "50000/50000 [==============================] - 3s 52us/step - loss: 0.3445 - acc: 0.8769 - val_loss: 2.7445 - val_acc: 0.5120\n",
      "Epoch 88/100\n",
      "50000/50000 [==============================] - 3s 52us/step - loss: 0.3451 - acc: 0.8757 - val_loss: 2.7064 - val_acc: 0.5073\n",
      "Epoch 89/100\n",
      "50000/50000 [==============================] - 3s 52us/step - loss: 0.3622 - acc: 0.8698 - val_loss: 2.7385 - val_acc: 0.5036\n",
      "Epoch 90/100\n",
      "50000/50000 [==============================] - 3s 51us/step - loss: 0.3155 - acc: 0.8858 - val_loss: 2.8207 - val_acc: 0.5030\n",
      "Epoch 91/100\n",
      "50000/50000 [==============================] - 3s 52us/step - loss: 0.3082 - acc: 0.8902 - val_loss: 2.8526 - val_acc: 0.5083\n",
      "Epoch 92/100\n",
      "50000/50000 [==============================] - 3s 52us/step - loss: 0.3195 - acc: 0.8865 - val_loss: 2.8693 - val_acc: 0.5019\n",
      "Epoch 93/100\n",
      "50000/50000 [==============================] - 3s 52us/step - loss: 0.2947 - acc: 0.8950 - val_loss: 2.9320 - val_acc: 0.5089\n",
      "Epoch 94/100\n",
      "50000/50000 [==============================] - 3s 52us/step - loss: 0.3276 - acc: 0.8812 - val_loss: 2.9692 - val_acc: 0.4904\n",
      "Epoch 95/100\n",
      "50000/50000 [==============================] - 3s 51us/step - loss: 0.3198 - acc: 0.8855 - val_loss: 2.9940 - val_acc: 0.4944\n",
      "Epoch 96/100\n",
      "50000/50000 [==============================] - 3s 52us/step - loss: 0.3240 - acc: 0.8833 - val_loss: 2.9701 - val_acc: 0.4963\n",
      "Epoch 97/100\n",
      "50000/50000 [==============================] - 3s 52us/step - loss: 0.3031 - acc: 0.8912 - val_loss: 2.9749 - val_acc: 0.5045\n",
      "Epoch 98/100\n",
      "50000/50000 [==============================] - 3s 52us/step - loss: 0.2749 - acc: 0.9001 - val_loss: 2.9025 - val_acc: 0.4988\n",
      "Epoch 99/100\n",
      "50000/50000 [==============================] - 3s 52us/step - loss: 0.2944 - acc: 0.8938 - val_loss: 3.0306 - val_acc: 0.5037\n",
      "Epoch 100/100\n",
      "50000/50000 [==============================] - 3s 52us/step - loss: 0.3069 - acc: 0.8898 - val_loss: 2.9833 - val_acc: 0.5111\n"
     ]
    },
    {
     "data": {
      "text/plain": [
       "<keras.callbacks.History at 0x1c8a609f2e8>"
      ]
     },
     "execution_count": 17,
     "metadata": {},
     "output_type": "execute_result"
    }
   ],
   "source": [
    "model.fit(x_train, y_train, \n",
    "          epochs=EPOCHS, \n",
    "          batch_size=BATCH_SIZE, \n",
    "          validation_data=(x_test, y_test), \n",
    "          shuffle=True)"
   ]
  },
  {
   "cell_type": "code",
   "execution_count": 19,
   "metadata": {},
   "outputs": [
    {
     "data": {
      "image/png": "[encoded data removed]",
      "text/plain": [
       "<Figure size 432x288 with 1 Axes>"
      ]
     },
     "metadata": {
      "needs_background": "light"
     },
     "output_type": "display_data"
    },
    {
     "data": {
      "image/png": "[encoded data removed]",
      "text/plain": [
       "<Figure size 432x288 with 1 Axes>"
      ]
     },
     "metadata": {
      "needs_background": "light"
     },
     "output_type": "display_data"
    }
   ],
   "source": [
    "import matplotlib.pyplot as plt\n",
    "\n",
    "\n",
    "train_loss = model.history.history[\"loss\"]\n",
    "valid_loss = model.history.history[\"val_loss\"]\n",
    "\n",
    "train_acc = model.history.history[\"acc\"]\n",
    "valid_acc = model.history.history[\"val_acc\"]\n",
    "\n",
    "plt.plot(range(len(train_loss)), train_loss, label=\"train loss\")\n",
    "plt.plot(range(len(valid_loss)), valid_loss, label=\"valid loss\")\n",
    "plt.legend()\n",
    "plt.title(\"Loss\")\n",
    "plt.show()\n",
    "\n",
    "plt.plot(range(len(train_acc)), train_acc, label=\"train accuracy\")\n",
    "plt.plot(range(len(valid_acc)), valid_acc, label=\"valid accuracy\")\n",
    "plt.legend()\n",
    "plt.title(\"Accuracy\")\n",
    "plt.show()"
   ]
  },
  {
   "cell_type": "code",
   "execution_count": null,
   "metadata": {},
   "outputs": [],
   "source": []
  }
 ],
 "metadata": {
  "kernelspec": {
   "display_name": "Python [conda env:tensorflow-gpu]",
   "language": "python",
   "name": "conda-env-tensorflow-gpu-py"
  },
  "language_info": {
   "codemirror_mode": {
    "name": "ipython",
    "version": 3
   },
   "file_extension": ".py",
   "mimetype": "text/x-python",
   "name": "python",
   "nbconvert_exporter": "python",
   "pygments_lexer": "ipython3",
   "version": "3.7.3"
  }
 },
 "nbformat": 4,
 "nbformat_minor": 2
}
