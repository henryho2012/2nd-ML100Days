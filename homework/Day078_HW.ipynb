{
 "cells": [
  {
   "cell_type": "markdown",
   "metadata": {},
   "source": [
    "## Work\n",
    "1. 請嘗試將 preproc_x 替換成以每筆資料的 min/max 進行標準化至 -1 ~ 1 間，再進行訓練\n",
    "2. 請嘗試將 mlp 疊更深 (e.g 5~10 層)，進行訓練後觀察 learning curve 的走勢\n",
    "3. (optional) 請改用 GPU 進行訓練 (如果你有 GPU 的話)，比較使用 CPU 與 GPU 的訓練速度"
   ]
  },
  {
   "cell_type": "code",
   "execution_count": 8,
   "metadata": {},
   "outputs": [
    {
     "name": "stderr",
     "output_type": "stream",
     "text": [
      "'nvidia-smi' 不是內部或外部命令、可執行的程式或批次檔。\n"
     ]
    }
   ],
   "source": [
    "## \n",
    "\"\"\"\n",
    "Your code here (optional)\n",
    "確認硬體資源\n",
    "\"\"\"\n",
    "!nvidia-smi"
   ]
  },
  {
   "cell_type": "code",
   "execution_count": 1,
   "metadata": {},
   "outputs": [
    {
     "name": "stderr",
     "output_type": "stream",
     "text": [
      "Using TensorFlow backend.\n"
     ]
    }
   ],
   "source": [
    "import os\n",
    "import keras\n",
    "\n",
    "# 啟用 GPU, 將 GPU 設定在有空檔的 GPU\n",
    "os.environ[\"CUDA_DEVICE_ORDER\"]=\"PCI_BUS_ID\" # 設定 smi 看到的 GPU ID 符合實際設定的順序 (若一台機器有多張不同型號的卡時，會有此類問題)\n",
    "os.environ[\"CUDA_VISIBLE_DEVICES\"] = \"5\""
   ]
  },
  {
   "cell_type": "code",
   "execution_count": 2,
   "metadata": {},
   "outputs": [],
   "source": [
    "train, test = keras.datasets.cifar10.load_data()"
   ]
  },
  {
   "cell_type": "code",
   "execution_count": 3,
   "metadata": {},
   "outputs": [],
   "source": [
    "## 資料前處理\n",
    "\"\"\"\n",
    "Your code here\n",
    "\"\"\"\n",
    "def preproc_x(x, flatten=True):\n",
    "    x = 2*(((x - x.min()) / (x.max() - x.min()))-0.5)\n",
    "    if flatten:\n",
    "        x = x.reshape((len(x), -1))\n",
    "    return x\n",
    "\n",
    "def preproc_y(y, num_classes=10):\n",
    "    if y.shape[-1] == 1:\n",
    "        y = keras.utils.to_categorical(y, num_classes)\n",
    "    return y     "
   ]
  },
  {
   "cell_type": "code",
   "execution_count": 4,
   "metadata": {},
   "outputs": [],
   "source": [
    "x_train, y_train = train\n",
    "x_test, y_test = test\n",
    "\n",
    "# 資料前處理 - X 標準化\n",
    "x_train = preproc_x(x_train)\n",
    "x_test = preproc_x(x_test)\n",
    "\n",
    "# 資料前處理 -Y 轉成 onehot\n",
    "y_train = preproc_y(y_train)\n",
    "y_test = preproc_y(y_test)"
   ]
  },
  {
   "cell_type": "code",
   "execution_count": 5,
   "metadata": {},
   "outputs": [
    {
     "name": "stdout",
     "output_type": "stream",
     "text": [
      "WARNING:tensorflow:From C:\\ProgramData\\Anaconda3\\envs\\tensorflow-gpu\\lib\\site-packages\\tensorflow\\python\\framework\\op_def_library.py:263: colocate_with (from tensorflow.python.framework.ops) is deprecated and will be removed in a future version.\n",
      "Instructions for updating:\n",
      "Colocations handled automatically by placer.\n",
      "_________________________________________________________________\n",
      "Layer (type)                 Output Shape              Param #   \n",
      "=================================================================\n",
      "input_1 (InputLayer)         (None, 3072)              0         \n",
      "_________________________________________________________________\n",
      "hidden_layer1 (Dense)        (None, 512)               1573376   \n",
      "_________________________________________________________________\n",
      "hidden_layer2 (Dense)        (None, 256)               131328    \n",
      "_________________________________________________________________\n",
      "hidden_layer3 (Dense)        (None, 128)               32896     \n",
      "_________________________________________________________________\n",
      "hidden_layer4 (Dense)        (None, 128)               16512     \n",
      "_________________________________________________________________\n",
      "hidden_layer5 (Dense)        (None, 128)               16512     \n",
      "_________________________________________________________________\n",
      "output (Dense)               (None, 10)                1290      \n",
      "=================================================================\n",
      "Total params: 1,771,914\n",
      "Trainable params: 1,771,914\n",
      "Non-trainable params: 0\n",
      "_________________________________________________________________\n"
     ]
    }
   ],
   "source": [
    "\"\"\"Code Here\n",
    "建立你的神經網路\n",
    "\"\"\"\n",
    "def build_mlp(input_shape, output_units=10, num_neurons=[512, 256, 128, 128, 128]):\n",
    "    input_layer = keras.layers.Input(input_shape)\n",
    "    \n",
    "    for i, n_units in enumerate(num_neurons):\n",
    "        if i == 0:\n",
    "            x = keras.layers.Dense(units=n_units, activation=\"relu\", name=\"hidden_layer\"+str(i+1))(input_layer)\n",
    "        else:\n",
    "            x = keras.layers.Dense(units=n_units, activation=\"relu\", name=\"hidden_layer\"+str(i+1))(x)\n",
    "    \n",
    "    out = keras.layers.Dense(units=output_units, activation=\"softmax\", name=\"output\")(x)\n",
    "    \n",
    "    model = keras.models.Model(inputs=[input_layer], outputs=[out])\n",
    "    return model\n",
    "\n",
    "model = build_mlp(input_shape=x_train.shape[1:])\n",
    "\n",
    "model.summary()"
   ]
  },
  {
   "cell_type": "code",
   "execution_count": 6,
   "metadata": {},
   "outputs": [],
   "source": [
    "## 超參數設定\n",
    "LEARNING_RATE = 0.001\n",
    "EPOCHS = 100\n",
    "BATCH_SIZE = 256"
   ]
  },
  {
   "cell_type": "code",
   "execution_count": 7,
   "metadata": {},
   "outputs": [],
   "source": [
    "optimizer = keras.optimizers.Adam(lr=LEARNING_RATE)\n",
    "model.compile(loss=\"categorical_crossentropy\", metrics=[\"accuracy\"], optimizer=optimizer)"
   ]
  },
  {
   "cell_type": "code",
   "execution_count": 8,
   "metadata": {},
   "outputs": [
    {
     "name": "stdout",
     "output_type": "stream",
     "text": [
      "WARNING:tensorflow:From C:\\ProgramData\\Anaconda3\\envs\\tensorflow-gpu\\lib\\site-packages\\tensorflow\\python\\ops\\math_ops.py:3066: to_int32 (from tensorflow.python.ops.math_ops) is deprecated and will be removed in a future version.\n",
      "Instructions for updating:\n",
      "Use tf.cast instead.\n",
      "Train on 50000 samples, validate on 10000 samples\n",
      "Epoch 1/100\n",
      "50000/50000 [==============================] - 9s 181us/step - loss: 1.6909 - acc: 0.3994 - val_loss: 1.5363 - val_acc: 0.4637\n",
      "Epoch 2/100\n",
      "50000/50000 [==============================] - 8s 167us/step - loss: 1.4678 - acc: 0.4820 - val_loss: 1.4505 - val_acc: 0.4905\n",
      "Epoch 3/100\n",
      "50000/50000 [==============================] - 8s 166us/step - loss: 1.3497 - acc: 0.5252 - val_loss: 1.3959 - val_acc: 0.5109\n",
      "Epoch 4/100\n",
      "50000/50000 [==============================] - 9s 171us/step - loss: 1.2515 - acc: 0.5596 - val_loss: 1.3783 - val_acc: 0.5228\n",
      "Epoch 5/100\n",
      "50000/50000 [==============================] - 8s 168us/step - loss: 1.1649 - acc: 0.5878 - val_loss: 1.3528 - val_acc: 0.5310\n",
      "Epoch 6/100\n",
      "50000/50000 [==============================] - 8s 167us/step - loss: 1.0938 - acc: 0.6128 - val_loss: 1.3908 - val_acc: 0.5184\n",
      "Epoch 7/100\n",
      "50000/50000 [==============================] - 8s 166us/step - loss: 1.0179 - acc: 0.6394 - val_loss: 1.3973 - val_acc: 0.5282\n",
      "Epoch 8/100\n",
      "50000/50000 [==============================] - 8s 167us/step - loss: 0.9443 - acc: 0.6680 - val_loss: 1.3964 - val_acc: 0.5413\n",
      "Epoch 9/100\n",
      "50000/50000 [==============================] - 8s 165us/step - loss: 0.8764 - acc: 0.6903 - val_loss: 1.4189 - val_acc: 0.5323\n",
      "Epoch 10/100\n",
      "50000/50000 [==============================] - 8s 166us/step - loss: 0.8163 - acc: 0.7121 - val_loss: 1.4713 - val_acc: 0.5298\n",
      "Epoch 11/100\n",
      "50000/50000 [==============================] - 8s 167us/step - loss: 0.7580 - acc: 0.7289 - val_loss: 1.5466 - val_acc: 0.5221\n",
      "Epoch 12/100\n",
      "50000/50000 [==============================] - 8s 166us/step - loss: 0.6910 - acc: 0.7565 - val_loss: 1.5758 - val_acc: 0.5351\n",
      "Epoch 13/100\n",
      "50000/50000 [==============================] - 8s 168us/step - loss: 0.6255 - acc: 0.7790 - val_loss: 1.6626 - val_acc: 0.5322\n",
      "Epoch 14/100\n",
      "50000/50000 [==============================] - 8s 166us/step - loss: 0.5779 - acc: 0.7976 - val_loss: 1.7165 - val_acc: 0.5448\n",
      "Epoch 15/100\n",
      "50000/50000 [==============================] - 8s 167us/step - loss: 0.5296 - acc: 0.8134 - val_loss: 1.8300 - val_acc: 0.5316\n",
      "Epoch 16/100\n",
      "50000/50000 [==============================] - 8s 166us/step - loss: 0.4763 - acc: 0.8323 - val_loss: 1.9839 - val_acc: 0.5363\n",
      "Epoch 17/100\n",
      "50000/50000 [==============================] - 8s 167us/step - loss: 0.4421 - acc: 0.8452 - val_loss: 1.9747 - val_acc: 0.5273\n",
      "Epoch 18/100\n",
      "50000/50000 [==============================] - 8s 169us/step - loss: 0.4110 - acc: 0.8561 - val_loss: 2.0225 - val_acc: 0.5295\n",
      "Epoch 19/100\n",
      "50000/50000 [==============================] - 8s 167us/step - loss: 0.3767 - acc: 0.8671 - val_loss: 2.0814 - val_acc: 0.5272\n",
      "Epoch 20/100\n",
      "50000/50000 [==============================] - 8s 167us/step - loss: 0.3534 - acc: 0.8760 - val_loss: 2.2846 - val_acc: 0.5241\n",
      "Epoch 21/100\n",
      "50000/50000 [==============================] - 8s 167us/step - loss: 0.3396 - acc: 0.8824 - val_loss: 2.3629 - val_acc: 0.5239\n",
      "Epoch 22/100\n",
      "50000/50000 [==============================] - 8s 167us/step - loss: 0.3048 - acc: 0.8935 - val_loss: 2.3821 - val_acc: 0.5321\n",
      "Epoch 23/100\n",
      "50000/50000 [==============================] - 8s 167us/step - loss: 0.2864 - acc: 0.8998 - val_loss: 2.5716 - val_acc: 0.5282\n",
      "Epoch 24/100\n",
      "50000/50000 [==============================] - 8s 167us/step - loss: 0.2772 - acc: 0.9035 - val_loss: 2.5787 - val_acc: 0.5399\n",
      "Epoch 25/100\n",
      "50000/50000 [==============================] - 8s 168us/step - loss: 0.2387 - acc: 0.9163 - val_loss: 2.6812 - val_acc: 0.5217\n",
      "Epoch 26/100\n",
      "50000/50000 [==============================] - 8s 166us/step - loss: 0.2432 - acc: 0.9160 - val_loss: 2.6131 - val_acc: 0.5293\n",
      "Epoch 27/100\n",
      "50000/50000 [==============================] - 8s 169us/step - loss: 0.2321 - acc: 0.9205 - val_loss: 2.7913 - val_acc: 0.5280\n",
      "Epoch 28/100\n",
      "50000/50000 [==============================] - 8s 167us/step - loss: 0.2264 - acc: 0.9222 - val_loss: 2.7522 - val_acc: 0.5282\n",
      "Epoch 29/100\n",
      "50000/50000 [==============================] - 8s 167us/step - loss: 0.1992 - acc: 0.9307 - val_loss: 2.8455 - val_acc: 0.5348\n",
      "Epoch 30/100\n",
      "50000/50000 [==============================] - 8s 167us/step - loss: 0.1987 - acc: 0.9321 - val_loss: 2.8642 - val_acc: 0.5280\n",
      "Epoch 31/100\n",
      "50000/50000 [==============================] - 8s 167us/step - loss: 0.1962 - acc: 0.9307 - val_loss: 3.0803 - val_acc: 0.5246\n",
      "Epoch 32/100\n",
      "50000/50000 [==============================] - 8s 167us/step - loss: 0.1906 - acc: 0.9347 - val_loss: 2.8938 - val_acc: 0.5364\n",
      "Epoch 33/100\n",
      "50000/50000 [==============================] - 8s 168us/step - loss: 0.1717 - acc: 0.9420 - val_loss: 3.0362 - val_acc: 0.5287\n",
      "Epoch 34/100\n",
      "50000/50000 [==============================] - 8s 167us/step - loss: 0.1720 - acc: 0.9410 - val_loss: 3.1959 - val_acc: 0.5265\n",
      "Epoch 35/100\n",
      "50000/50000 [==============================] - 8s 168us/step - loss: 0.1703 - acc: 0.9415 - val_loss: 3.1637 - val_acc: 0.5334\n",
      "Epoch 36/100\n",
      "50000/50000 [==============================] - 8s 167us/step - loss: 0.1688 - acc: 0.9418 - val_loss: 3.1027 - val_acc: 0.5302\n",
      "Epoch 37/100\n",
      "50000/50000 [==============================] - 8s 168us/step - loss: 0.1510 - acc: 0.9482 - val_loss: 3.1733 - val_acc: 0.5276\n",
      "Epoch 38/100\n",
      "50000/50000 [==============================] - 8s 167us/step - loss: 0.1597 - acc: 0.9465 - val_loss: 3.2443 - val_acc: 0.5246\n",
      "Epoch 39/100\n",
      "50000/50000 [==============================] - 8s 167us/step - loss: 0.1590 - acc: 0.9455 - val_loss: 3.1408 - val_acc: 0.5207\n",
      "Epoch 40/100\n",
      "50000/50000 [==============================] - 8s 167us/step - loss: 0.1443 - acc: 0.9511 - val_loss: 3.2021 - val_acc: 0.5348\n",
      "Epoch 41/100\n",
      "50000/50000 [==============================] - 8s 167us/step - loss: 0.1376 - acc: 0.9534 - val_loss: 3.2895 - val_acc: 0.5192\n",
      "Epoch 42/100\n",
      "50000/50000 [==============================] - 8s 168us/step - loss: 0.1379 - acc: 0.9540 - val_loss: 3.3229 - val_acc: 0.5255\n",
      "Epoch 43/100\n",
      "50000/50000 [==============================] - 8s 167us/step - loss: 0.1409 - acc: 0.9522 - val_loss: 3.2945 - val_acc: 0.5274\n",
      "Epoch 44/100\n",
      "50000/50000 [==============================] - 8s 168us/step - loss: 0.1354 - acc: 0.9549 - val_loss: 3.3765 - val_acc: 0.5269\n",
      "Epoch 45/100\n",
      "50000/50000 [==============================] - 8s 167us/step - loss: 0.1339 - acc: 0.9547 - val_loss: 3.2829 - val_acc: 0.5323\n",
      "Epoch 46/100\n",
      "50000/50000 [==============================] - 8s 168us/step - loss: 0.1261 - acc: 0.9566 - val_loss: 3.3959 - val_acc: 0.5319\n",
      "Epoch 47/100\n",
      "50000/50000 [==============================] - 8s 168us/step - loss: 0.1424 - acc: 0.9537 - val_loss: 3.3347 - val_acc: 0.5324\n",
      "Epoch 48/100\n",
      "50000/50000 [==============================] - 8s 168us/step - loss: 0.1131 - acc: 0.9616 - val_loss: 3.4367 - val_acc: 0.5325\n",
      "Epoch 49/100\n",
      "50000/50000 [==============================] - 8s 169us/step - loss: 0.1118 - acc: 0.9610 - val_loss: 3.4735 - val_acc: 0.5272\n",
      "Epoch 50/100\n",
      "50000/50000 [==============================] - 8s 168us/step - loss: 0.1286 - acc: 0.9564 - val_loss: 3.4732 - val_acc: 0.5414\n",
      "Epoch 51/100\n",
      "50000/50000 [==============================] - 8s 167us/step - loss: 0.1272 - acc: 0.9580 - val_loss: 3.4646 - val_acc: 0.5360\n",
      "Epoch 52/100\n",
      "50000/50000 [==============================] - 9s 172us/step - loss: 0.1107 - acc: 0.9633 - val_loss: 3.4773 - val_acc: 0.5293\n",
      "Epoch 53/100\n",
      "50000/50000 [==============================] - 9s 175us/step - loss: 0.1121 - acc: 0.9628 - val_loss: 3.5432 - val_acc: 0.5360\n",
      "Epoch 54/100\n",
      "50000/50000 [==============================] - 9s 175us/step - loss: 0.1226 - acc: 0.9588 - val_loss: 3.5158 - val_acc: 0.5328\n",
      "Epoch 55/100\n",
      "50000/50000 [==============================] - 8s 168us/step - loss: 0.0955 - acc: 0.9688 - val_loss: 3.6039 - val_acc: 0.5274\n",
      "Epoch 56/100\n",
      "50000/50000 [==============================] - 9s 182us/step - loss: 0.1117 - acc: 0.9620 - val_loss: 3.5566 - val_acc: 0.5213\n",
      "Epoch 57/100\n"
     ]
    },
    {
     "name": "stdout",
     "output_type": "stream",
     "text": [
      "50000/50000 [==============================] - 8s 166us/step - loss: 0.1126 - acc: 0.9626 - val_loss: 3.6073 - val_acc: 0.5296\n",
      "Epoch 58/100\n",
      "50000/50000 [==============================] - 8s 167us/step - loss: 0.0999 - acc: 0.9666 - val_loss: 3.5343 - val_acc: 0.5304\n",
      "Epoch 59/100\n",
      "50000/50000 [==============================] - 8s 167us/step - loss: 0.0918 - acc: 0.9695 - val_loss: 3.6308 - val_acc: 0.5264\n",
      "Epoch 60/100\n",
      "50000/50000 [==============================] - 8s 169us/step - loss: 0.1120 - acc: 0.9641 - val_loss: 3.5308 - val_acc: 0.5276\n",
      "Epoch 61/100\n",
      "50000/50000 [==============================] - 8s 165us/step - loss: 0.1054 - acc: 0.9659 - val_loss: 3.6331 - val_acc: 0.5308\n",
      "Epoch 62/100\n",
      "50000/50000 [==============================] - 8s 168us/step - loss: 0.0843 - acc: 0.9722 - val_loss: 3.6635 - val_acc: 0.5285\n",
      "Epoch 63/100\n",
      "50000/50000 [==============================] - 8s 168us/step - loss: 0.1176 - acc: 0.9623 - val_loss: 3.5703 - val_acc: 0.5260\n",
      "Epoch 64/100\n",
      "50000/50000 [==============================] - 8s 168us/step - loss: 0.0971 - acc: 0.9677 - val_loss: 3.6590 - val_acc: 0.5322\n",
      "Epoch 65/100\n",
      "50000/50000 [==============================] - 8s 168us/step - loss: 0.0898 - acc: 0.9709 - val_loss: 3.6169 - val_acc: 0.5289\n",
      "Epoch 66/100\n",
      "50000/50000 [==============================] - 8s 169us/step - loss: 0.0919 - acc: 0.9702 - val_loss: 3.6305 - val_acc: 0.5262\n",
      "Epoch 67/100\n",
      "50000/50000 [==============================] - 8s 167us/step - loss: 0.1012 - acc: 0.9669 - val_loss: 3.7042 - val_acc: 0.5301\n",
      "Epoch 68/100\n",
      "50000/50000 [==============================] - 8s 167us/step - loss: 0.0980 - acc: 0.9674 - val_loss: 3.6501 - val_acc: 0.5336\n",
      "Epoch 69/100\n",
      "50000/50000 [==============================] - 8s 167us/step - loss: 0.1003 - acc: 0.9673 - val_loss: 3.6984 - val_acc: 0.5310\n",
      "Epoch 70/100\n",
      "50000/50000 [==============================] - 8s 166us/step - loss: 0.0840 - acc: 0.9722 - val_loss: 3.7258 - val_acc: 0.5307\n",
      "Epoch 71/100\n",
      "50000/50000 [==============================] - 8s 166us/step - loss: 0.0736 - acc: 0.9757 - val_loss: 3.6849 - val_acc: 0.5348\n",
      "Epoch 72/100\n",
      "50000/50000 [==============================] - 8s 168us/step - loss: 0.0895 - acc: 0.9707 - val_loss: 3.7106 - val_acc: 0.5295\n",
      "Epoch 73/100\n",
      "50000/50000 [==============================] - 8s 166us/step - loss: 0.0827 - acc: 0.9720 - val_loss: 3.8067 - val_acc: 0.5332\n",
      "Epoch 74/100\n",
      "50000/50000 [==============================] - 8s 166us/step - loss: 0.0948 - acc: 0.9689 - val_loss: 3.7902 - val_acc: 0.5219\n",
      "Epoch 75/100\n",
      "50000/50000 [==============================] - 8s 166us/step - loss: 0.0868 - acc: 0.9714 - val_loss: 3.8089 - val_acc: 0.5375\n",
      "Epoch 76/100\n",
      "50000/50000 [==============================] - 9s 175us/step - loss: 0.0840 - acc: 0.9725 - val_loss: 3.7983 - val_acc: 0.5299\n",
      "Epoch 77/100\n",
      "50000/50000 [==============================] - 9s 179us/step - loss: 0.0802 - acc: 0.9741 - val_loss: 3.7976 - val_acc: 0.5311\n",
      "Epoch 78/100\n",
      "50000/50000 [==============================] - 8s 169us/step - loss: 0.0726 - acc: 0.9759 - val_loss: 3.8824 - val_acc: 0.5309\n",
      "Epoch 79/100\n",
      "50000/50000 [==============================] - 8s 168us/step - loss: 0.0845 - acc: 0.9718 - val_loss: 3.8622 - val_acc: 0.5189\n",
      "Epoch 80/100\n",
      "50000/50000 [==============================] - 8s 165us/step - loss: 0.0701 - acc: 0.9773 - val_loss: 3.9002 - val_acc: 0.5323\n",
      "Epoch 81/100\n",
      "50000/50000 [==============================] - 8s 167us/step - loss: 0.0788 - acc: 0.9745 - val_loss: 3.7808 - val_acc: 0.5370\n",
      "Epoch 82/100\n",
      "50000/50000 [==============================] - 8s 166us/step - loss: 0.0808 - acc: 0.9743 - val_loss: 3.8025 - val_acc: 0.5262\n",
      "Epoch 83/100\n",
      "50000/50000 [==============================] - 8s 169us/step - loss: 0.0766 - acc: 0.9754 - val_loss: 3.7661 - val_acc: 0.5263\n",
      "Epoch 84/100\n",
      "50000/50000 [==============================] - 8s 170us/step - loss: 0.0799 - acc: 0.9737 - val_loss: 3.7937 - val_acc: 0.5309\n",
      "Epoch 85/100\n",
      "50000/50000 [==============================] - 8s 168us/step - loss: 0.0857 - acc: 0.9724 - val_loss: 3.7002 - val_acc: 0.5267\n",
      "Epoch 86/100\n",
      "50000/50000 [==============================] - 8s 167us/step - loss: 0.0679 - acc: 0.9778 - val_loss: 3.8386 - val_acc: 0.5317\n",
      "Epoch 87/100\n",
      "50000/50000 [==============================] - 8s 170us/step - loss: 0.0751 - acc: 0.9761 - val_loss: 3.6535 - val_acc: 0.5286\n",
      "Epoch 88/100\n",
      "50000/50000 [==============================] - 8s 168us/step - loss: 0.0751 - acc: 0.9757 - val_loss: 3.9638 - val_acc: 0.5276\n",
      "Epoch 89/100\n",
      "50000/50000 [==============================] - 8s 167us/step - loss: 0.0824 - acc: 0.9727 - val_loss: 3.8035 - val_acc: 0.5350\n",
      "Epoch 90/100\n",
      "50000/50000 [==============================] - 8s 169us/step - loss: 0.0693 - acc: 0.9779 - val_loss: 3.8321 - val_acc: 0.5349\n",
      "Epoch 91/100\n",
      "50000/50000 [==============================] - 8s 166us/step - loss: 0.0600 - acc: 0.9805 - val_loss: 3.9108 - val_acc: 0.5317\n",
      "Epoch 92/100\n",
      "50000/50000 [==============================] - 8s 164us/step - loss: 0.0924 - acc: 0.9710 - val_loss: 3.8094 - val_acc: 0.5337\n",
      "Epoch 93/100\n",
      "50000/50000 [==============================] - 8s 165us/step - loss: 0.0673 - acc: 0.9785 - val_loss: 3.9305 - val_acc: 0.5301\n",
      "Epoch 94/100\n",
      "50000/50000 [==============================] - 8s 168us/step - loss: 0.0555 - acc: 0.9824 - val_loss: 4.0009 - val_acc: 0.5218\n",
      "Epoch 95/100\n",
      "50000/50000 [==============================] - 8s 167us/step - loss: 0.0787 - acc: 0.9742 - val_loss: 3.7145 - val_acc: 0.5294\n",
      "Epoch 96/100\n",
      "50000/50000 [==============================] - 8s 167us/step - loss: 0.0686 - acc: 0.9784 - val_loss: 3.9122 - val_acc: 0.5314\n",
      "Epoch 97/100\n",
      "50000/50000 [==============================] - 8s 166us/step - loss: 0.0822 - acc: 0.9736 - val_loss: 3.8720 - val_acc: 0.5281\n",
      "Epoch 98/100\n",
      "50000/50000 [==============================] - 8s 167us/step - loss: 0.0596 - acc: 0.9810 - val_loss: 3.9709 - val_acc: 0.5340\n",
      "Epoch 99/100\n",
      "50000/50000 [==============================] - 8s 166us/step - loss: 0.0633 - acc: 0.9799 - val_loss: 3.9296 - val_acc: 0.5305\n",
      "Epoch 100/100\n",
      "50000/50000 [==============================] - 8s 167us/step - loss: 0.0711 - acc: 0.9778 - val_loss: 3.8718 - val_acc: 0.5338\n"
     ]
    },
    {
     "data": {
      "text/plain": [
       "<keras.callbacks.History at 0x2898031a748>"
      ]
     },
     "execution_count": 8,
     "metadata": {},
     "output_type": "execute_result"
    }
   ],
   "source": [
    "model.fit(x_train, y_train, \n",
    "          epochs=EPOCHS, \n",
    "          batch_size=BATCH_SIZE, \n",
    "          validation_data=(x_test, y_test), \n",
    "          shuffle=True)"
   ]
  },
  {
   "cell_type": "code",
   "execution_count": 10,
   "metadata": {},
   "outputs": [
    {
     "data": {
      "image/png": "[encoded data removed]",
      "text/plain": [
       "<Figure size 432x288 with 1 Axes>"
      ]
     },
     "metadata": {
      "needs_background": "light"
     },
     "output_type": "display_data"
    },
    {
     "data": {
      "image/png": "[encoded data removed]",
      "text/plain": [
       "<Figure size 432x288 with 1 Axes>"
      ]
     },
     "metadata": {
      "needs_background": "light"
     },
     "output_type": "display_data"
    }
   ],
   "source": [
    "import matplotlib.pyplot as plt\n",
    "\n",
    "\n",
    "train_loss = model.history.history[\"loss\"]\n",
    "valid_loss = model.history.history[\"val_loss\"]\n",
    "\n",
    "train_acc = model.history.history[\"acc\"]\n",
    "valid_acc = model.history.history[\"val_acc\"]\n",
    "\n",
    "plt.plot(range(len(train_loss)), train_loss, label=\"train loss\")\n",
    "plt.plot(range(len(valid_loss)), valid_loss, label=\"valid loss\")\n",
    "plt.legend()\n",
    "plt.title(\"Loss\")\n",
    "plt.show()\n",
    "\n",
    "plt.plot(range(len(train_acc)), train_acc, label=\"train accuracy\")\n",
    "plt.plot(range(len(valid_acc)), valid_acc, label=\"valid accuracy\")\n",
    "plt.legend()\n",
    "plt.title(\"Accuracy\")\n",
    "plt.show()"
   ]
  },
  {
   "cell_type": "code",
   "execution_count": null,
   "metadata": {},
   "outputs": [],
   "source": []
  }
 ],
 "metadata": {
  "kernelspec": {
   "display_name": "Python [conda env:tensorflow-gpu]",
   "language": "python",
   "name": "conda-env-tensorflow-gpu-py"
  },
  "language_info": {
   "codemirror_mode": {
    "name": "ipython",
    "version": 3
   },
   "file_extension": ".py",
   "mimetype": "text/x-python",
   "name": "python",
   "nbconvert_exporter": "python",
   "pygments_lexer": "ipython3",
   "version": "3.7.3"
  }
 },
 "nbformat": 4,
 "nbformat_minor": 2
}
